{
  "nbformat": 4,
  "nbformat_minor": 0,
  "metadata": {
    "colab": {
      "name": "Day-3_houses_prices_ytechsa.ipynb",
      "provenance": [],
      "collapsed_sections": [],
      "include_colab_link": true
    },
    "language_info": {
      "codemirror_mode": {
        "name": "ipython",
        "version": 3
      },
      "file_extension": ".py",
      "mimetype": "text/x-python",
      "name": "python",
      "nbconvert_exporter": "python",
      "pygments_lexer": "ipython3",
      "version": "3.7.3"
    },
    "kernelspec": {
      "display_name": "Python 3",
      "language": "python",
      "name": "python3"
    },
    "accelerator": "TPU"
  },
  "cells": [
    {
      "cell_type": "markdown",
      "metadata": {
        "id": "view-in-github",
        "colab_type": "text"
      },
      "source": [
        "<a href=\"https://colab.research.google.com/github/Ruqyai/Course-DS/blob/master/Day_3_houses_prices_ytechsa.ipynb\" target=\"_parent\"><img src=\"https://colab.research.google.com/assets/colab-badge.svg\" alt=\"Open In Colab\"/></a>"
      ]
    },
    {
      "cell_type": "markdown",
      "metadata": {
        "id": "wNz6mgH1TiE_"
      },
      "source": [
        "\n",
        "#Learning Objectives:\n",
        "\n",
        " \n",
        "* Formulate  the problem\n",
        "* Load the Data\n",
        "* Data Exploration\n",
        "* Clean The Data\n",
        "* Discover and Visualize the Data to Gain Insights\n",
        "* Looking for Correlations\n",
        "* Prepare the Data for Machine Learning Algorithms\n",
        "* Save Cleaned Data and Download it\n",
        "\n"
      ]
    },
    {
      "cell_type": "markdown",
      "metadata": {
        "id": "deQs0DGs9EJM"
      },
      "source": [
        "#Houses prices"
      ]
    },
    {
      "cell_type": "markdown",
      "metadata": {
        "id": "_8lqWSOWvCq3"
      },
      "source": [
        "<h3>About Data </h3>\n",
        "\n",
        "The dataset consisted of historic data of houses sold between May 2014 to May 2015.\n",
        "\n",
        "The dataset consisted of 21 variables and 21613 observations.\n",
        "\n",
        "[more info](https://www.kaggle.com/shivachandel/kc-house-data)"
      ]
    },
    {
      "cell_type": "markdown",
      "metadata": {
        "id": "3nah7fETQPRB"
      },
      "source": [
        "#Formulate  the problem"
      ]
    },
    {
      "cell_type": "markdown",
      "metadata": {
        "id": "hcJ8r_lCSk5-"
      },
      "source": [
        "We want to predict the prices of houses\n",
        "\n",
        "So How predict the prices of houses?!!\n",
        "\n",
        "Notice the data is labeled (**Supervised Learning**)\n",
        "\n",
        "Notice the desired output is number (**Regression**)\n",
        "\n",
        "\n"
      ]
    },
    {
      "cell_type": "markdown",
      "metadata": {
        "id": "ytcjztxnjS1b"
      },
      "source": [
        "\n",
        "\n",
        "###Import libraries\n",
        "\n",
        "\n"
      ]
    },
    {
      "cell_type": "code",
      "metadata": {
        "id": "M2d6rYP_i_hx",
        "outputId": "6ae39cf4-9cb4-4359-e44c-4d9ff091631a",
        "colab": {
          "base_uri": "https://localhost:8080/",
          "height": 72
        }
      },
      "source": [
        "import numpy as np\n",
        "import pandas as pd\n",
        "import seaborn as sns\n",
        "import matplotlib.pyplot as plt"
      ],
      "execution_count": 1,
      "outputs": [
        {
          "output_type": "stream",
          "text": [
            "/usr/local/lib/python3.6/dist-packages/statsmodels/tools/_testing.py:19: FutureWarning: pandas.util.testing is deprecated. Use the functions in the public API at pandas.testing instead.\n",
            "  import pandas.util.testing as tm\n"
          ],
          "name": "stderr"
        }
      ]
    },
    {
      "cell_type": "markdown",
      "metadata": {
        "id": "ZZ6HXhGoQU75"
      },
      "source": [
        "#Load the Data"
      ]
    },
    {
      "cell_type": "markdown",
      "metadata": {
        "id": "eVdWi-vQsN-o"
      },
      "source": [
        "###Load the dataset"
      ]
    },
    {
      "cell_type": "code",
      "metadata": {
        "id": "MJ4_MBf4wdiK"
      },
      "source": [
        "file_path = 'https://raw.githubusercontent.com/Ruqyai/Course-DS/master/raw_kc_house_data.csv'"
      ],
      "execution_count": 2,
      "outputs": []
    },
    {
      "cell_type": "code",
      "metadata": {
        "id": "ytaabSN1kEjY",
        "outputId": "606d0609-c0c3-40d1-e595-05f48875e3d3",
        "colab": {
          "base_uri": "https://localhost:8080/",
          "height": 427
        }
      },
      "source": [
        "#Use the Pandas method read_csv() to load the data from the web address.\n",
        "df = pd.read_csv(file_path)\n",
        "df"
      ],
      "execution_count": 3,
      "outputs": [
        {
          "output_type": "execute_result",
          "data": {
            "text/html": [
              "<div>\n",
              "<style scoped>\n",
              "    .dataframe tbody tr th:only-of-type {\n",
              "        vertical-align: middle;\n",
              "    }\n",
              "\n",
              "    .dataframe tbody tr th {\n",
              "        vertical-align: top;\n",
              "    }\n",
              "\n",
              "    .dataframe thead th {\n",
              "        text-align: right;\n",
              "    }\n",
              "</style>\n",
              "<table border=\"1\" class=\"dataframe\">\n",
              "  <thead>\n",
              "    <tr style=\"text-align: right;\">\n",
              "      <th></th>\n",
              "      <th>id</th>\n",
              "      <th>date</th>\n",
              "      <th>price</th>\n",
              "      <th>bedrooms</th>\n",
              "      <th>bathrooms</th>\n",
              "      <th>sqft_living</th>\n",
              "      <th>sqft_lot</th>\n",
              "      <th>floors</th>\n",
              "      <th>waterfront</th>\n",
              "      <th>view</th>\n",
              "      <th>condition</th>\n",
              "      <th>grade</th>\n",
              "      <th>sqft_above</th>\n",
              "      <th>sqft_basement</th>\n",
              "      <th>yr_built</th>\n",
              "      <th>yr_renovated</th>\n",
              "      <th>zipcode</th>\n",
              "      <th>lat</th>\n",
              "      <th>long</th>\n",
              "      <th>sqft_living15</th>\n",
              "      <th>sqft_lot15</th>\n",
              "      <th>Old</th>\n",
              "      <th>New</th>\n",
              "    </tr>\n",
              "  </thead>\n",
              "  <tbody>\n",
              "    <tr>\n",
              "      <th>0</th>\n",
              "      <td>7129300520</td>\n",
              "      <td>20141013T000000</td>\n",
              "      <td>221900.0</td>\n",
              "      <td>NaN</td>\n",
              "      <td>NaN</td>\n",
              "      <td>1180</td>\n",
              "      <td>5650.0</td>\n",
              "      <td>1</td>\n",
              "      <td>?</td>\n",
              "      <td>0.0</td>\n",
              "      <td>3</td>\n",
              "      <td>7</td>\n",
              "      <td>1180</td>\n",
              "      <td>0</td>\n",
              "      <td>1955</td>\n",
              "      <td>0.0</td>\n",
              "      <td>98178</td>\n",
              "      <td>47.5112</td>\n",
              "      <td>-122.257</td>\n",
              "      <td>1340</td>\n",
              "      <td>5650</td>\n",
              "      <td>yes</td>\n",
              "      <td>yes</td>\n",
              "    </tr>\n",
              "    <tr>\n",
              "      <th>1</th>\n",
              "      <td>6414100192</td>\n",
              "      <td>20141209T000000</td>\n",
              "      <td>538000.0</td>\n",
              "      <td>3.0</td>\n",
              "      <td>2.0</td>\n",
              "      <td>2570</td>\n",
              "      <td>7242.0</td>\n",
              "      <td>2</td>\n",
              "      <td>?</td>\n",
              "      <td>0.0</td>\n",
              "      <td>3</td>\n",
              "      <td>7</td>\n",
              "      <td>2170</td>\n",
              "      <td>400</td>\n",
              "      <td>1951</td>\n",
              "      <td>1991.0</td>\n",
              "      <td>98125</td>\n",
              "      <td>47.7210</td>\n",
              "      <td>-122.319</td>\n",
              "      <td>1690</td>\n",
              "      <td>7639</td>\n",
              "      <td>yes</td>\n",
              "      <td>yes</td>\n",
              "    </tr>\n",
              "    <tr>\n",
              "      <th>2</th>\n",
              "      <td>5631500400</td>\n",
              "      <td>20150225T000000</td>\n",
              "      <td>180000.0</td>\n",
              "      <td>2.0</td>\n",
              "      <td>1.0</td>\n",
              "      <td>770</td>\n",
              "      <td>10000.0</td>\n",
              "      <td>1</td>\n",
              "      <td>0</td>\n",
              "      <td>0.0</td>\n",
              "      <td>3</td>\n",
              "      <td>6</td>\n",
              "      <td>770</td>\n",
              "      <td>0</td>\n",
              "      <td>1933</td>\n",
              "      <td>NaN</td>\n",
              "      <td>98028</td>\n",
              "      <td>47.7379</td>\n",
              "      <td>-122.233</td>\n",
              "      <td>2720</td>\n",
              "      <td>8062</td>\n",
              "      <td>yes</td>\n",
              "      <td>yes</td>\n",
              "    </tr>\n",
              "    <tr>\n",
              "      <th>3</th>\n",
              "      <td>2487200875</td>\n",
              "      <td>20141209T000000</td>\n",
              "      <td>604000.0</td>\n",
              "      <td>4.0</td>\n",
              "      <td>3.0</td>\n",
              "      <td>1960</td>\n",
              "      <td>5000.0</td>\n",
              "      <td>1</td>\n",
              "      <td>0</td>\n",
              "      <td>0.0</td>\n",
              "      <td>5</td>\n",
              "      <td>7</td>\n",
              "      <td>1050</td>\n",
              "      <td>910</td>\n",
              "      <td>1965</td>\n",
              "      <td>NaN</td>\n",
              "      <td>98136</td>\n",
              "      <td>47.5208</td>\n",
              "      <td>-122.393</td>\n",
              "      <td>1360</td>\n",
              "      <td>5000</td>\n",
              "      <td>yes</td>\n",
              "      <td>yes</td>\n",
              "    </tr>\n",
              "    <tr>\n",
              "      <th>4</th>\n",
              "      <td>1954400510</td>\n",
              "      <td>20150218T000000</td>\n",
              "      <td>510000.0</td>\n",
              "      <td>3.0</td>\n",
              "      <td>2.0</td>\n",
              "      <td>1680</td>\n",
              "      <td>8080.0</td>\n",
              "      <td>1</td>\n",
              "      <td>0</td>\n",
              "      <td>0.0</td>\n",
              "      <td>3</td>\n",
              "      <td>8</td>\n",
              "      <td>1680</td>\n",
              "      <td>0</td>\n",
              "      <td>1987</td>\n",
              "      <td>NaN</td>\n",
              "      <td>98074</td>\n",
              "      <td>47.6168</td>\n",
              "      <td>-122.045</td>\n",
              "      <td>1800</td>\n",
              "      <td>7503</td>\n",
              "      <td>yes</td>\n",
              "      <td>yes</td>\n",
              "    </tr>\n",
              "    <tr>\n",
              "      <th>...</th>\n",
              "      <td>...</td>\n",
              "      <td>...</td>\n",
              "      <td>...</td>\n",
              "      <td>...</td>\n",
              "      <td>...</td>\n",
              "      <td>...</td>\n",
              "      <td>...</td>\n",
              "      <td>...</td>\n",
              "      <td>...</td>\n",
              "      <td>...</td>\n",
              "      <td>...</td>\n",
              "      <td>...</td>\n",
              "      <td>...</td>\n",
              "      <td>...</td>\n",
              "      <td>...</td>\n",
              "      <td>...</td>\n",
              "      <td>...</td>\n",
              "      <td>...</td>\n",
              "      <td>...</td>\n",
              "      <td>...</td>\n",
              "      <td>...</td>\n",
              "      <td>...</td>\n",
              "      <td>...</td>\n",
              "    </tr>\n",
              "    <tr>\n",
              "      <th>21610</th>\n",
              "      <td>1523300141</td>\n",
              "      <td>20140623T000000</td>\n",
              "      <td>402101.0</td>\n",
              "      <td>2.0</td>\n",
              "      <td>1.0</td>\n",
              "      <td>1020</td>\n",
              "      <td>1350.0</td>\n",
              "      <td>2</td>\n",
              "      <td>0</td>\n",
              "      <td>0.0</td>\n",
              "      <td>3</td>\n",
              "      <td>7</td>\n",
              "      <td>1020</td>\n",
              "      <td>0</td>\n",
              "      <td>2009</td>\n",
              "      <td>0.0</td>\n",
              "      <td>98144</td>\n",
              "      <td>47.5944</td>\n",
              "      <td>-122.299</td>\n",
              "      <td>1020</td>\n",
              "      <td>2007</td>\n",
              "      <td>no</td>\n",
              "      <td>no</td>\n",
              "    </tr>\n",
              "    <tr>\n",
              "      <th>21611</th>\n",
              "      <td>291310100</td>\n",
              "      <td>20150116T000000</td>\n",
              "      <td>400000.0</td>\n",
              "      <td>3.0</td>\n",
              "      <td>3.0</td>\n",
              "      <td>1600</td>\n",
              "      <td>2388.0</td>\n",
              "      <td>2</td>\n",
              "      <td>0</td>\n",
              "      <td>0.0</td>\n",
              "      <td>3</td>\n",
              "      <td>8</td>\n",
              "      <td>1600</td>\n",
              "      <td>0</td>\n",
              "      <td>2004</td>\n",
              "      <td>0.0</td>\n",
              "      <td>98027</td>\n",
              "      <td>47.5345</td>\n",
              "      <td>-122.069</td>\n",
              "      <td>1410</td>\n",
              "      <td>1287</td>\n",
              "      <td>no</td>\n",
              "      <td>no</td>\n",
              "    </tr>\n",
              "    <tr>\n",
              "      <th>21612</th>\n",
              "      <td>1523300157</td>\n",
              "      <td>20141015T000000</td>\n",
              "      <td>325000.0</td>\n",
              "      <td>2.0</td>\n",
              "      <td>1.0</td>\n",
              "      <td>1020</td>\n",
              "      <td>1076.0</td>\n",
              "      <td>2</td>\n",
              "      <td>0</td>\n",
              "      <td>0.0</td>\n",
              "      <td>3</td>\n",
              "      <td>7</td>\n",
              "      <td>1020</td>\n",
              "      <td>0</td>\n",
              "      <td>2008</td>\n",
              "      <td>0.0</td>\n",
              "      <td>98144</td>\n",
              "      <td>47.5941</td>\n",
              "      <td>-122.299</td>\n",
              "      <td>1020</td>\n",
              "      <td>1357</td>\n",
              "      <td>no</td>\n",
              "      <td>no</td>\n",
              "    </tr>\n",
              "    <tr>\n",
              "      <th>21613</th>\n",
              "      <td>291310100</td>\n",
              "      <td>20150116T000000</td>\n",
              "      <td>400000.0</td>\n",
              "      <td>3.0</td>\n",
              "      <td>3.0</td>\n",
              "      <td>1600</td>\n",
              "      <td>2388.0</td>\n",
              "      <td>2</td>\n",
              "      <td>0</td>\n",
              "      <td>0.0</td>\n",
              "      <td>3</td>\n",
              "      <td>8</td>\n",
              "      <td>1600</td>\n",
              "      <td>0</td>\n",
              "      <td>2004</td>\n",
              "      <td>0.0</td>\n",
              "      <td>98027</td>\n",
              "      <td>47.5345</td>\n",
              "      <td>-122.069</td>\n",
              "      <td>1410</td>\n",
              "      <td>1287</td>\n",
              "      <td>no</td>\n",
              "      <td>no</td>\n",
              "    </tr>\n",
              "    <tr>\n",
              "      <th>21614</th>\n",
              "      <td>1523300157</td>\n",
              "      <td>20141015T000000</td>\n",
              "      <td>325000.0</td>\n",
              "      <td>2.0</td>\n",
              "      <td>1.0</td>\n",
              "      <td>1020</td>\n",
              "      <td>1076.0</td>\n",
              "      <td>2</td>\n",
              "      <td>0</td>\n",
              "      <td>0.0</td>\n",
              "      <td>3</td>\n",
              "      <td>7</td>\n",
              "      <td>1020</td>\n",
              "      <td>0</td>\n",
              "      <td>2008</td>\n",
              "      <td>0.0</td>\n",
              "      <td>98144</td>\n",
              "      <td>47.5941</td>\n",
              "      <td>-122.299</td>\n",
              "      <td>1020</td>\n",
              "      <td>1357</td>\n",
              "      <td>no</td>\n",
              "      <td>no</td>\n",
              "    </tr>\n",
              "  </tbody>\n",
              "</table>\n",
              "<p>21615 rows × 23 columns</p>\n",
              "</div>"
            ],
            "text/plain": [
              "               id             date     price  ...  sqft_lot15  Old  New\n",
              "0      7129300520  20141013T000000  221900.0  ...        5650  yes  yes\n",
              "1      6414100192  20141209T000000  538000.0  ...        7639  yes  yes\n",
              "2      5631500400  20150225T000000  180000.0  ...        8062  yes  yes\n",
              "3      2487200875  20141209T000000  604000.0  ...        5000  yes  yes\n",
              "4      1954400510  20150218T000000  510000.0  ...        7503  yes  yes\n",
              "...           ...              ...       ...  ...         ...  ...  ...\n",
              "21610  1523300141  20140623T000000  402101.0  ...        2007   no   no\n",
              "21611   291310100  20150116T000000  400000.0  ...        1287   no   no\n",
              "21612  1523300157  20141015T000000  325000.0  ...        1357   no   no\n",
              "21613   291310100  20150116T000000  400000.0  ...        1287   no   no\n",
              "21614  1523300157  20141015T000000  325000.0  ...        1357   no   no\n",
              "\n",
              "[21615 rows x 23 columns]"
            ]
          },
          "metadata": {
            "tags": []
          },
          "execution_count": 3
        }
      ]
    },
    {
      "cell_type": "markdown",
      "metadata": {
        "id": "9BLux0Gdr6tf"
      },
      "source": [
        "#Data Exploration"
      ]
    },
    {
      "cell_type": "markdown",
      "metadata": {
        "id": "RecqGL3OQag5"
      },
      "source": [
        "##Take a Quick Look at the Data Structure"
      ]
    },
    {
      "cell_type": "code",
      "metadata": {
        "id": "quLmOu3AsAXr",
        "outputId": "6b2c151f-1e5c-4250-a2fd-fbf9405b1804",
        "colab": {
          "base_uri": "https://localhost:8080/",
          "height": 218
        }
      },
      "source": [
        "#Use the method head() to display the first five rows of the dataframe.\n",
        "df.head()"
      ],
      "execution_count": 4,
      "outputs": [
        {
          "output_type": "execute_result",
          "data": {
            "text/html": [
              "<div>\n",
              "<style scoped>\n",
              "    .dataframe tbody tr th:only-of-type {\n",
              "        vertical-align: middle;\n",
              "    }\n",
              "\n",
              "    .dataframe tbody tr th {\n",
              "        vertical-align: top;\n",
              "    }\n",
              "\n",
              "    .dataframe thead th {\n",
              "        text-align: right;\n",
              "    }\n",
              "</style>\n",
              "<table border=\"1\" class=\"dataframe\">\n",
              "  <thead>\n",
              "    <tr style=\"text-align: right;\">\n",
              "      <th></th>\n",
              "      <th>id</th>\n",
              "      <th>date</th>\n",
              "      <th>price</th>\n",
              "      <th>bedrooms</th>\n",
              "      <th>bathrooms</th>\n",
              "      <th>sqft_living</th>\n",
              "      <th>sqft_lot</th>\n",
              "      <th>floors</th>\n",
              "      <th>waterfront</th>\n",
              "      <th>view</th>\n",
              "      <th>condition</th>\n",
              "      <th>grade</th>\n",
              "      <th>sqft_above</th>\n",
              "      <th>sqft_basement</th>\n",
              "      <th>yr_built</th>\n",
              "      <th>yr_renovated</th>\n",
              "      <th>zipcode</th>\n",
              "      <th>lat</th>\n",
              "      <th>long</th>\n",
              "      <th>sqft_living15</th>\n",
              "      <th>sqft_lot15</th>\n",
              "      <th>Old</th>\n",
              "      <th>New</th>\n",
              "    </tr>\n",
              "  </thead>\n",
              "  <tbody>\n",
              "    <tr>\n",
              "      <th>0</th>\n",
              "      <td>7129300520</td>\n",
              "      <td>20141013T000000</td>\n",
              "      <td>221900.0</td>\n",
              "      <td>NaN</td>\n",
              "      <td>NaN</td>\n",
              "      <td>1180</td>\n",
              "      <td>5650.0</td>\n",
              "      <td>1</td>\n",
              "      <td>?</td>\n",
              "      <td>0.0</td>\n",
              "      <td>3</td>\n",
              "      <td>7</td>\n",
              "      <td>1180</td>\n",
              "      <td>0</td>\n",
              "      <td>1955</td>\n",
              "      <td>0.0</td>\n",
              "      <td>98178</td>\n",
              "      <td>47.5112</td>\n",
              "      <td>-122.257</td>\n",
              "      <td>1340</td>\n",
              "      <td>5650</td>\n",
              "      <td>yes</td>\n",
              "      <td>yes</td>\n",
              "    </tr>\n",
              "    <tr>\n",
              "      <th>1</th>\n",
              "      <td>6414100192</td>\n",
              "      <td>20141209T000000</td>\n",
              "      <td>538000.0</td>\n",
              "      <td>3.0</td>\n",
              "      <td>2.0</td>\n",
              "      <td>2570</td>\n",
              "      <td>7242.0</td>\n",
              "      <td>2</td>\n",
              "      <td>?</td>\n",
              "      <td>0.0</td>\n",
              "      <td>3</td>\n",
              "      <td>7</td>\n",
              "      <td>2170</td>\n",
              "      <td>400</td>\n",
              "      <td>1951</td>\n",
              "      <td>1991.0</td>\n",
              "      <td>98125</td>\n",
              "      <td>47.7210</td>\n",
              "      <td>-122.319</td>\n",
              "      <td>1690</td>\n",
              "      <td>7639</td>\n",
              "      <td>yes</td>\n",
              "      <td>yes</td>\n",
              "    </tr>\n",
              "    <tr>\n",
              "      <th>2</th>\n",
              "      <td>5631500400</td>\n",
              "      <td>20150225T000000</td>\n",
              "      <td>180000.0</td>\n",
              "      <td>2.0</td>\n",
              "      <td>1.0</td>\n",
              "      <td>770</td>\n",
              "      <td>10000.0</td>\n",
              "      <td>1</td>\n",
              "      <td>0</td>\n",
              "      <td>0.0</td>\n",
              "      <td>3</td>\n",
              "      <td>6</td>\n",
              "      <td>770</td>\n",
              "      <td>0</td>\n",
              "      <td>1933</td>\n",
              "      <td>NaN</td>\n",
              "      <td>98028</td>\n",
              "      <td>47.7379</td>\n",
              "      <td>-122.233</td>\n",
              "      <td>2720</td>\n",
              "      <td>8062</td>\n",
              "      <td>yes</td>\n",
              "      <td>yes</td>\n",
              "    </tr>\n",
              "    <tr>\n",
              "      <th>3</th>\n",
              "      <td>2487200875</td>\n",
              "      <td>20141209T000000</td>\n",
              "      <td>604000.0</td>\n",
              "      <td>4.0</td>\n",
              "      <td>3.0</td>\n",
              "      <td>1960</td>\n",
              "      <td>5000.0</td>\n",
              "      <td>1</td>\n",
              "      <td>0</td>\n",
              "      <td>0.0</td>\n",
              "      <td>5</td>\n",
              "      <td>7</td>\n",
              "      <td>1050</td>\n",
              "      <td>910</td>\n",
              "      <td>1965</td>\n",
              "      <td>NaN</td>\n",
              "      <td>98136</td>\n",
              "      <td>47.5208</td>\n",
              "      <td>-122.393</td>\n",
              "      <td>1360</td>\n",
              "      <td>5000</td>\n",
              "      <td>yes</td>\n",
              "      <td>yes</td>\n",
              "    </tr>\n",
              "    <tr>\n",
              "      <th>4</th>\n",
              "      <td>1954400510</td>\n",
              "      <td>20150218T000000</td>\n",
              "      <td>510000.0</td>\n",
              "      <td>3.0</td>\n",
              "      <td>2.0</td>\n",
              "      <td>1680</td>\n",
              "      <td>8080.0</td>\n",
              "      <td>1</td>\n",
              "      <td>0</td>\n",
              "      <td>0.0</td>\n",
              "      <td>3</td>\n",
              "      <td>8</td>\n",
              "      <td>1680</td>\n",
              "      <td>0</td>\n",
              "      <td>1987</td>\n",
              "      <td>NaN</td>\n",
              "      <td>98074</td>\n",
              "      <td>47.6168</td>\n",
              "      <td>-122.045</td>\n",
              "      <td>1800</td>\n",
              "      <td>7503</td>\n",
              "      <td>yes</td>\n",
              "      <td>yes</td>\n",
              "    </tr>\n",
              "  </tbody>\n",
              "</table>\n",
              "</div>"
            ],
            "text/plain": [
              "           id             date     price  ...  sqft_lot15  Old  New\n",
              "0  7129300520  20141013T000000  221900.0  ...        5650  yes  yes\n",
              "1  6414100192  20141209T000000  538000.0  ...        7639  yes  yes\n",
              "2  5631500400  20150225T000000  180000.0  ...        8062  yes  yes\n",
              "3  2487200875  20141209T000000  604000.0  ...        5000  yes  yes\n",
              "4  1954400510  20150218T000000  510000.0  ...        7503  yes  yes\n",
              "\n",
              "[5 rows x 23 columns]"
            ]
          },
          "metadata": {
            "tags": []
          },
          "execution_count": 4
        }
      ]
    },
    {
      "cell_type": "markdown",
      "metadata": {
        "id": "d49ur2sbRKt6"
      },
      "source": [
        "#Clean  the data"
      ]
    },
    {
      "cell_type": "code",
      "metadata": {
        "id": "eDKr62sc0EJ_",
        "outputId": "70558726-0402-44f8-9384-37e651e02fe7",
        "colab": {
          "base_uri": "https://localhost:8080/",
          "height": 535
        }
      },
      "source": [
        "df.info()"
      ],
      "execution_count": 5,
      "outputs": [
        {
          "output_type": "stream",
          "text": [
            "<class 'pandas.core.frame.DataFrame'>\n",
            "RangeIndex: 21615 entries, 0 to 21614\n",
            "Data columns (total 23 columns):\n",
            " #   Column         Non-Null Count  Dtype  \n",
            "---  ------         --------------  -----  \n",
            " 0   id             21615 non-null  int64  \n",
            " 1   date           21615 non-null  object \n",
            " 2   price          21615 non-null  float64\n",
            " 3   bedrooms       21612 non-null  float64\n",
            " 4   bathrooms      21612 non-null  float64\n",
            " 5   sqft_living    21615 non-null  int64  \n",
            " 6   sqft_lot       21613 non-null  float64\n",
            " 7   floors         21615 non-null  int64  \n",
            " 8   waterfront     21615 non-null  object \n",
            " 9   view           21613 non-null  float64\n",
            " 10  condition      21615 non-null  int64  \n",
            " 11  grade          21615 non-null  int64  \n",
            " 12  sqft_above     21615 non-null  int64  \n",
            " 13  sqft_basement  21615 non-null  int64  \n",
            " 14  yr_built       21615 non-null  int64  \n",
            " 15  yr_renovated   21352 non-null  float64\n",
            " 16  zipcode        21615 non-null  int64  \n",
            " 17  lat            21611 non-null  float64\n",
            " 18  long           21615 non-null  float64\n",
            " 19  sqft_living15  21615 non-null  int64  \n",
            " 20  sqft_lot15     21615 non-null  int64  \n",
            " 21  Old            1881 non-null   object \n",
            " 22  New            1881 non-null   object \n",
            "dtypes: float64(8), int64(11), object(4)\n",
            "memory usage: 3.8+ MB\n"
          ],
          "name": "stdout"
        }
      ]
    },
    {
      "cell_type": "markdown",
      "metadata": {
        "id": "0DeE-jGhY3mI"
      },
      "source": [
        "\n",
        "##Missing  Values\n"
      ]
    },
    {
      "cell_type": "markdown",
      "metadata": {
        "id": "COskhneKMp6I"
      },
      "source": [
        "#Identify and handle missing values"
      ]
    },
    {
      "cell_type": "markdown",
      "metadata": {
        "id": "s4qzLiLXMsqe"
      },
      "source": [
        "As we can see, several question marks appeared in the dataframe; those are missing values which may hinder our further analysis. \n",
        "<div>So, how do we identify all those missing values and deal with them?</div> \n",
        "\n",
        "\n",
        "<h1>How to work with missing data?</h1>\n",
        "\n",
        "Steps for working with missing data:\n",
        "<ol>\n",
        "    <li>identify missing data</li>\n",
        "    <li>deal with missing data</li>\n",
        "    <li>correct data format</li>\n",
        "</ol>"
      ]
    },
    {
      "cell_type": "markdown",
      "metadata": {
        "id": "WakF5O8paPiA"
      },
      "source": [
        "<h1 id=\"identify_missing_values\">1. Identify missing values</h1>"
      ]
    },
    {
      "cell_type": "code",
      "metadata": {
        "id": "krSPjYCm0H_T",
        "outputId": "44470bc4-f93a-406d-b5b7-084307439909",
        "colab": {
          "base_uri": "https://localhost:8080/",
          "height": 432
        }
      },
      "source": [
        "df.isnull().sum()"
      ],
      "execution_count": 6,
      "outputs": [
        {
          "output_type": "execute_result",
          "data": {
            "text/plain": [
              "id                   0\n",
              "date                 0\n",
              "price                0\n",
              "bedrooms             3\n",
              "bathrooms            3\n",
              "sqft_living          0\n",
              "sqft_lot             2\n",
              "floors               0\n",
              "waterfront           0\n",
              "view                 2\n",
              "condition            0\n",
              "grade                0\n",
              "sqft_above           0\n",
              "sqft_basement        0\n",
              "yr_built             0\n",
              "yr_renovated       263\n",
              "zipcode              0\n",
              "lat                  4\n",
              "long                 0\n",
              "sqft_living15        0\n",
              "sqft_lot15           0\n",
              "Old              19734\n",
              "New              19734\n",
              "dtype: int64"
            ]
          },
          "metadata": {
            "tags": []
          },
          "execution_count": 6
        }
      ]
    },
    {
      "cell_type": "code",
      "metadata": {
        "id": "ldHRMxAxOTIt",
        "outputId": "22d17588-fda6-456a-be4a-366c1db81eb6",
        "colab": {
          "base_uri": "https://localhost:8080/",
          "height": 333
        }
      },
      "source": [
        "# Check if there is any missing value\n",
        "sns.heatmap(df.isnull(), cmap='viridis')\n",
        "plt.show()"
      ],
      "execution_count": 7,
      "outputs": [
        {
          "output_type": "display_data",
          "data": {
            "image/png": "[encoded data removed]",
            "text/plain": [
              "<Figure size 432x288 with 2 Axes>"
            ]
          },
          "metadata": {
            "tags": [],
            "needs_background": "light"
          }
        }
      ]
    },
    {
      "cell_type": "markdown",
      "metadata": {
        "id": "TtnAE9cuMwod"
      },
      "source": [
        "   \n",
        "   <h4>Convert \"?\" to NaN</h4>In the house dataset, missing data comes with the question mark \"?\".We replace \"?\" with NaN (Not a Number), which is Python's default missing value marker, for reasons of computational speed and convenience. Here we use the function:  <pre>.replace(A, B, inplace = True) </pre>to replace A by B\n",
        "\n",
        "\n"
      ]
    },
    {
      "cell_type": "code",
      "metadata": {
        "id": "zXvRjTiDNLVa",
        "outputId": "d5086a5d-f584-48bb-a999-cd9c6a1a7b0a",
        "colab": {
          "base_uri": "https://localhost:8080/",
          "height": 368
        }
      },
      "source": [
        "import numpy as np\n",
        "\n",
        "# replace \"?\" to NaN\n",
        "df.replace(\"?\", np.nan, inplace = True)\n",
        "df.head(10)"
      ],
      "execution_count": 8,
      "outputs": [
        {
          "output_type": "execute_result",
          "data": {
            "text/html": [
              "<div>\n",
              "<style scoped>\n",
              "    .dataframe tbody tr th:only-of-type {\n",
              "        vertical-align: middle;\n",
              "    }\n",
              "\n",
              "    .dataframe tbody tr th {\n",
              "        vertical-align: top;\n",
              "    }\n",
              "\n",
              "    .dataframe thead th {\n",
              "        text-align: right;\n",
              "    }\n",
              "</style>\n",
              "<table border=\"1\" class=\"dataframe\">\n",
              "  <thead>\n",
              "    <tr style=\"text-align: right;\">\n",
              "      <th></th>\n",
              "      <th>id</th>\n",
              "      <th>date</th>\n",
              "      <th>price</th>\n",
              "      <th>bedrooms</th>\n",
              "      <th>bathrooms</th>\n",
              "      <th>sqft_living</th>\n",
              "      <th>sqft_lot</th>\n",
              "      <th>floors</th>\n",
              "      <th>waterfront</th>\n",
              "      <th>view</th>\n",
              "      <th>condition</th>\n",
              "      <th>grade</th>\n",
              "      <th>sqft_above</th>\n",
              "      <th>sqft_basement</th>\n",
              "      <th>yr_built</th>\n",
              "      <th>yr_renovated</th>\n",
              "      <th>zipcode</th>\n",
              "      <th>lat</th>\n",
              "      <th>long</th>\n",
              "      <th>sqft_living15</th>\n",
              "      <th>sqft_lot15</th>\n",
              "      <th>Old</th>\n",
              "      <th>New</th>\n",
              "    </tr>\n",
              "  </thead>\n",
              "  <tbody>\n",
              "    <tr>\n",
              "      <th>0</th>\n",
              "      <td>7129300520</td>\n",
              "      <td>20141013T000000</td>\n",
              "      <td>221900.0</td>\n",
              "      <td>NaN</td>\n",
              "      <td>NaN</td>\n",
              "      <td>1180</td>\n",
              "      <td>5650.0</td>\n",
              "      <td>1</td>\n",
              "      <td>NaN</td>\n",
              "      <td>0.0</td>\n",
              "      <td>3</td>\n",
              "      <td>7</td>\n",
              "      <td>1180</td>\n",
              "      <td>0</td>\n",
              "      <td>1955</td>\n",
              "      <td>0.0</td>\n",
              "      <td>98178</td>\n",
              "      <td>47.5112</td>\n",
              "      <td>-122.257</td>\n",
              "      <td>1340</td>\n",
              "      <td>5650</td>\n",
              "      <td>yes</td>\n",
              "      <td>yes</td>\n",
              "    </tr>\n",
              "    <tr>\n",
              "      <th>1</th>\n",
              "      <td>6414100192</td>\n",
              "      <td>20141209T000000</td>\n",
              "      <td>538000.0</td>\n",
              "      <td>3.0</td>\n",
              "      <td>2.0</td>\n",
              "      <td>2570</td>\n",
              "      <td>7242.0</td>\n",
              "      <td>2</td>\n",
              "      <td>NaN</td>\n",
              "      <td>0.0</td>\n",
              "      <td>3</td>\n",
              "      <td>7</td>\n",
              "      <td>2170</td>\n",
              "      <td>400</td>\n",
              "      <td>1951</td>\n",
              "      <td>1991.0</td>\n",
              "      <td>98125</td>\n",
              "      <td>47.7210</td>\n",
              "      <td>-122.319</td>\n",
              "      <td>1690</td>\n",
              "      <td>7639</td>\n",
              "      <td>yes</td>\n",
              "      <td>yes</td>\n",
              "    </tr>\n",
              "    <tr>\n",
              "      <th>2</th>\n",
              "      <td>5631500400</td>\n",
              "      <td>20150225T000000</td>\n",
              "      <td>180000.0</td>\n",
              "      <td>2.0</td>\n",
              "      <td>1.0</td>\n",
              "      <td>770</td>\n",
              "      <td>10000.0</td>\n",
              "      <td>1</td>\n",
              "      <td>0</td>\n",
              "      <td>0.0</td>\n",
              "      <td>3</td>\n",
              "      <td>6</td>\n",
              "      <td>770</td>\n",
              "      <td>0</td>\n",
              "      <td>1933</td>\n",
              "      <td>NaN</td>\n",
              "      <td>98028</td>\n",
              "      <td>47.7379</td>\n",
              "      <td>-122.233</td>\n",
              "      <td>2720</td>\n",
              "      <td>8062</td>\n",
              "      <td>yes</td>\n",
              "      <td>yes</td>\n",
              "    </tr>\n",
              "    <tr>\n",
              "      <th>3</th>\n",
              "      <td>2487200875</td>\n",
              "      <td>20141209T000000</td>\n",
              "      <td>604000.0</td>\n",
              "      <td>4.0</td>\n",
              "      <td>3.0</td>\n",
              "      <td>1960</td>\n",
              "      <td>5000.0</td>\n",
              "      <td>1</td>\n",
              "      <td>0</td>\n",
              "      <td>0.0</td>\n",
              "      <td>5</td>\n",
              "      <td>7</td>\n",
              "      <td>1050</td>\n",
              "      <td>910</td>\n",
              "      <td>1965</td>\n",
              "      <td>NaN</td>\n",
              "      <td>98136</td>\n",
              "      <td>47.5208</td>\n",
              "      <td>-122.393</td>\n",
              "      <td>1360</td>\n",
              "      <td>5000</td>\n",
              "      <td>yes</td>\n",
              "      <td>yes</td>\n",
              "    </tr>\n",
              "    <tr>\n",
              "      <th>4</th>\n",
              "      <td>1954400510</td>\n",
              "      <td>20150218T000000</td>\n",
              "      <td>510000.0</td>\n",
              "      <td>3.0</td>\n",
              "      <td>2.0</td>\n",
              "      <td>1680</td>\n",
              "      <td>8080.0</td>\n",
              "      <td>1</td>\n",
              "      <td>0</td>\n",
              "      <td>0.0</td>\n",
              "      <td>3</td>\n",
              "      <td>8</td>\n",
              "      <td>1680</td>\n",
              "      <td>0</td>\n",
              "      <td>1987</td>\n",
              "      <td>NaN</td>\n",
              "      <td>98074</td>\n",
              "      <td>47.6168</td>\n",
              "      <td>-122.045</td>\n",
              "      <td>1800</td>\n",
              "      <td>7503</td>\n",
              "      <td>yes</td>\n",
              "      <td>yes</td>\n",
              "    </tr>\n",
              "    <tr>\n",
              "      <th>5</th>\n",
              "      <td>7237550310</td>\n",
              "      <td>20140512T000000</td>\n",
              "      <td>1230000.0</td>\n",
              "      <td>4.0</td>\n",
              "      <td>5.0</td>\n",
              "      <td>5420</td>\n",
              "      <td>101930.0</td>\n",
              "      <td>1</td>\n",
              "      <td>0</td>\n",
              "      <td>0.0</td>\n",
              "      <td>3</td>\n",
              "      <td>11</td>\n",
              "      <td>3890</td>\n",
              "      <td>1530</td>\n",
              "      <td>2001</td>\n",
              "      <td>NaN</td>\n",
              "      <td>98053</td>\n",
              "      <td>47.6561</td>\n",
              "      <td>-122.005</td>\n",
              "      <td>4760</td>\n",
              "      <td>101930</td>\n",
              "      <td>yes</td>\n",
              "      <td>yes</td>\n",
              "    </tr>\n",
              "    <tr>\n",
              "      <th>6</th>\n",
              "      <td>1321400060</td>\n",
              "      <td>20140627T000000</td>\n",
              "      <td>257500.0</td>\n",
              "      <td>NaN</td>\n",
              "      <td>2.0</td>\n",
              "      <td>1715</td>\n",
              "      <td>6819.0</td>\n",
              "      <td>2</td>\n",
              "      <td>0</td>\n",
              "      <td>0.0</td>\n",
              "      <td>3</td>\n",
              "      <td>7</td>\n",
              "      <td>1715</td>\n",
              "      <td>0</td>\n",
              "      <td>1995</td>\n",
              "      <td>NaN</td>\n",
              "      <td>98003</td>\n",
              "      <td>47.3097</td>\n",
              "      <td>-122.327</td>\n",
              "      <td>2238</td>\n",
              "      <td>6819</td>\n",
              "      <td>yes</td>\n",
              "      <td>yes</td>\n",
              "    </tr>\n",
              "    <tr>\n",
              "      <th>7</th>\n",
              "      <td>2008000270</td>\n",
              "      <td>20150115T000000</td>\n",
              "      <td>291850.0</td>\n",
              "      <td>NaN</td>\n",
              "      <td>2.0</td>\n",
              "      <td>1060</td>\n",
              "      <td>9711.0</td>\n",
              "      <td>1</td>\n",
              "      <td>0</td>\n",
              "      <td>0.0</td>\n",
              "      <td>3</td>\n",
              "      <td>7</td>\n",
              "      <td>1060</td>\n",
              "      <td>0</td>\n",
              "      <td>1963</td>\n",
              "      <td>NaN</td>\n",
              "      <td>98198</td>\n",
              "      <td>47.4095</td>\n",
              "      <td>-122.315</td>\n",
              "      <td>1650</td>\n",
              "      <td>9711</td>\n",
              "      <td>yes</td>\n",
              "      <td>yes</td>\n",
              "    </tr>\n",
              "    <tr>\n",
              "      <th>8</th>\n",
              "      <td>2414600126</td>\n",
              "      <td>20150415T000000</td>\n",
              "      <td>229500.0</td>\n",
              "      <td>3.0</td>\n",
              "      <td>1.0</td>\n",
              "      <td>1780</td>\n",
              "      <td>7470.0</td>\n",
              "      <td>1</td>\n",
              "      <td>0</td>\n",
              "      <td>0.0</td>\n",
              "      <td>3</td>\n",
              "      <td>7</td>\n",
              "      <td>1050</td>\n",
              "      <td>730</td>\n",
              "      <td>1960</td>\n",
              "      <td>NaN</td>\n",
              "      <td>98146</td>\n",
              "      <td>47.5123</td>\n",
              "      <td>-122.337</td>\n",
              "      <td>1780</td>\n",
              "      <td>8113</td>\n",
              "      <td>yes</td>\n",
              "      <td>yes</td>\n",
              "    </tr>\n",
              "    <tr>\n",
              "      <th>9</th>\n",
              "      <td>3793500160</td>\n",
              "      <td>20150312T000000</td>\n",
              "      <td>323000.0</td>\n",
              "      <td>3.0</td>\n",
              "      <td>3.0</td>\n",
              "      <td>1890</td>\n",
              "      <td>6560.0</td>\n",
              "      <td>2</td>\n",
              "      <td>0</td>\n",
              "      <td>0.0</td>\n",
              "      <td>3</td>\n",
              "      <td>7</td>\n",
              "      <td>1890</td>\n",
              "      <td>0</td>\n",
              "      <td>2003</td>\n",
              "      <td>NaN</td>\n",
              "      <td>98038</td>\n",
              "      <td>47.3684</td>\n",
              "      <td>-122.031</td>\n",
              "      <td>2390</td>\n",
              "      <td>7570</td>\n",
              "      <td>yes</td>\n",
              "      <td>yes</td>\n",
              "    </tr>\n",
              "  </tbody>\n",
              "</table>\n",
              "</div>"
            ],
            "text/plain": [
              "           id             date      price  ...  sqft_lot15  Old  New\n",
              "0  7129300520  20141013T000000   221900.0  ...        5650  yes  yes\n",
              "1  6414100192  20141209T000000   538000.0  ...        7639  yes  yes\n",
              "2  5631500400  20150225T000000   180000.0  ...        8062  yes  yes\n",
              "3  2487200875  20141209T000000   604000.0  ...        5000  yes  yes\n",
              "4  1954400510  20150218T000000   510000.0  ...        7503  yes  yes\n",
              "5  7237550310  20140512T000000  1230000.0  ...      101930  yes  yes\n",
              "6  1321400060  20140627T000000   257500.0  ...        6819  yes  yes\n",
              "7  2008000270  20150115T000000   291850.0  ...        9711  yes  yes\n",
              "8  2414600126  20150415T000000   229500.0  ...        8113  yes  yes\n",
              "9  3793500160  20150312T000000   323000.0  ...        7570  yes  yes\n",
              "\n",
              "[10 rows x 23 columns]"
            ]
          },
          "metadata": {
            "tags": []
          },
          "execution_count": 8
        }
      ]
    },
    {
      "cell_type": "markdown",
      "metadata": {
        "id": "VVOgPQisk6fI"
      },
      "source": [
        "<h1 id=\"deal_missing_values\">2. Deal with missing data</h1>\n",
        "<b>How to deal with missing data?</b>\n",
        "\n",
        "<ol>\n",
        "    <li>drop data<br>\n",
        "        a. drop the whole row<br>\n",
        "        b. drop the whole column\n",
        "    </li>\n",
        "    <li>replace data (impute)<br>\n",
        "        a. replace it by mean or median <br>\n",
        "        b. replace it by frequency<br>\n",
        "        c. replace it based on inference or other functions \n",
        "    </li>\n",
        "</ol>"
      ]
    },
    {
      "cell_type": "markdown",
      "metadata": {
        "id": "U4jGxinucHkK"
      },
      "source": [
        "<h3>Drop the whole row</h3>"
      ]
    },
    {
      "cell_type": "code",
      "metadata": {
        "id": "NPKuyZalcD4e"
      },
      "source": [
        "# lat we have 4 NaN\n",
        "# simply drop whole row with NaN \n",
        "df.dropna(subset=[\"lat\"], axis=0, inplace=True) \n"
      ],
      "execution_count": 9,
      "outputs": []
    },
    {
      "cell_type": "markdown",
      "metadata": {
        "id": "_oh_yXVmmbU2"
      },
      "source": [
        "<h3>Drop the whole column</h3>"
      ]
    },
    {
      "cell_type": "code",
      "metadata": {
        "id": "coX6V23Vmhak"
      },
      "source": [
        "# yr_renovated we have 263 NaN\n",
        "# simply drop whole yr_renovated column with NaN \n",
        "df.drop([\"yr_renovated\"], axis=1, inplace=True)"
      ],
      "execution_count": 10,
      "outputs": []
    },
    {
      "cell_type": "markdown",
      "metadata": {
        "id": "OUefg_i3kaeU"
      },
      "source": [
        "<h3> Replace it by mean </h3>"
      ]
    },
    {
      "cell_type": "code",
      "metadata": {
        "id": "PiO5N1glX7kc",
        "outputId": "3c6fc756-4653-43a6-be78-2f575d8de4f8",
        "colab": {
          "base_uri": "https://localhost:8080/",
          "height": 35
        }
      },
      "source": [
        "# sqft_lot we have 2 NaN\n",
        "df['sqft_lot']=df['sqft_lot'].fillna(df['sqft_lot'].mean())\n",
        "# After Replacing\n",
        "df['sqft_lot'].isnull().sum()"
      ],
      "execution_count": 11,
      "outputs": [
        {
          "output_type": "execute_result",
          "data": {
            "text/plain": [
              "0"
            ]
          },
          "metadata": {
            "tags": []
          },
          "execution_count": 11
        }
      ]
    },
    {
      "cell_type": "markdown",
      "metadata": {
        "id": "rGt4YfGWZ8MM"
      },
      "source": [
        "<h3>Replace by frequency</h3>"
      ]
    },
    {
      "cell_type": "markdown",
      "metadata": {
        "id": "sMOlgiinayHl"
      },
      "source": [
        "To see which values are present in a particular column, we can use the \".value_counts()\" method:"
      ]
    },
    {
      "cell_type": "code",
      "metadata": {
        "id": "nGDH53q6W39c",
        "outputId": "b939a731-9ec3-4403-8eea-39cfd2cd42d3",
        "colab": {
          "base_uri": "https://localhost:8080/",
          "height": 190
        }
      },
      "source": [
        "# bathrooms we have 3 NaN\n",
        "df['bathrooms'].value_counts()"
      ],
      "execution_count": 12,
      "outputs": [
        {
          "output_type": "execute_result",
          "data": {
            "text/plain": [
              "2.0    8469\n",
              "3.0    7907\n",
              "1.0    3935\n",
              "4.0    1100\n",
              "5.0     157\n",
              "6.0      22\n",
              "0.0      10\n",
              "7.0       4\n",
              "8.0       4\n",
              "Name: bathrooms, dtype: int64"
            ]
          },
          "metadata": {
            "tags": []
          },
          "execution_count": 12
        }
      ]
    },
    {
      "cell_type": "markdown",
      "metadata": {
        "id": "DRTY3d9pbpMB"
      },
      "source": [
        "We can see that four doors are the most common type. We can also use the \".idxmax()\" method to calculate for us the most common type automatically:"
      ]
    },
    {
      "cell_type": "code",
      "metadata": {
        "id": "onj8nk9abshf",
        "outputId": "1dbb92b1-a160-4bbb-ec78-6b460a3d1883",
        "colab": {
          "base_uri": "https://localhost:8080/",
          "height": 35
        }
      },
      "source": [
        "df['bathrooms']=df['bathrooms'].fillna(df['bathrooms'].value_counts().idxmax())\n",
        "# After Replacing\n",
        "df['bathrooms'].isnull().sum()"
      ],
      "execution_count": 13,
      "outputs": [
        {
          "output_type": "execute_result",
          "data": {
            "text/plain": [
              "0"
            ]
          },
          "metadata": {
            "tags": []
          },
          "execution_count": 13
        }
      ]
    },
    {
      "cell_type": "markdown",
      "metadata": {
        "id": "WvpTiNpjkNl9"
      },
      "source": [
        "<h3>Replace it based on inference or other functions</h3>"
      ]
    },
    {
      "cell_type": "code",
      "metadata": {
        "id": "En6S7_YkkUcx",
        "outputId": "54b5eae8-cfd9-4a3f-e232-93ca0b01a899",
        "colab": {
          "base_uri": "https://localhost:8080/",
          "height": 35
        }
      },
      "source": [
        "df['Old'].fillna(\"yes\", inplace = True) \n",
        "# After Replacing\n",
        "df['Old'].isnull().sum()"
      ],
      "execution_count": 14,
      "outputs": [
        {
          "output_type": "execute_result",
          "data": {
            "text/plain": [
              "0"
            ]
          },
          "metadata": {
            "tags": []
          },
          "execution_count": 14
        }
      ]
    },
    {
      "cell_type": "markdown",
      "metadata": {
        "id": "j9-XIG8_dkZN"
      },
      "source": [
        "<h3> Replace by sklearn.impute </h3>"
      ]
    },
    {
      "cell_type": "code",
      "metadata": {
        "id": "rkQ5ZEO5MLnc",
        "outputId": "ae1182fa-d755-46ec-ffd2-94580525fcf6",
        "colab": {
          "base_uri": "https://localhost:8080/",
          "height": 35
        }
      },
      "source": [
        "# view we have 2 NaN\n",
        "#import numpy as np\n",
        "from sklearn.impute import SimpleImputer\n",
        "imr = SimpleImputer(missing_values=np.nan, strategy='median')# mean , median , most_frequent , (constant ==fill_value)\n",
        "df['view'] = imr.fit_transform(df[['view']])\n",
        "\n",
        "# After impute\n",
        "df['view'].isnull().sum()"
      ],
      "execution_count": 15,
      "outputs": [
        {
          "output_type": "execute_result",
          "data": {
            "text/plain": [
              "0"
            ]
          },
          "metadata": {
            "tags": []
          },
          "execution_count": 15
        }
      ]
    },
    {
      "cell_type": "code",
      "metadata": {
        "id": "QdXbDVQuIIAV",
        "outputId": "3dbb97cd-c508-4acd-be06-1d5c217897a8",
        "colab": {
          "base_uri": "https://localhost:8080/",
          "height": 35
        }
      },
      "source": [
        "# bedrooms we have 3 NaN\n",
        "\n",
        "imr = SimpleImputer(missing_values=np.nan, strategy='most_frequent')# mean , median , most_frequent , (constant ==fill_value)\n",
        "df['bedrooms'] = imr.fit_transform(df[['bedrooms']])\n",
        "\n",
        "# After impute\n",
        "df['bedrooms'].isnull().sum()"
      ],
      "execution_count": 16,
      "outputs": [
        {
          "output_type": "execute_result",
          "data": {
            "text/plain": [
              "0"
            ]
          },
          "metadata": {
            "tags": []
          },
          "execution_count": 16
        }
      ]
    },
    {
      "cell_type": "markdown",
      "metadata": {
        "id": "SxieTbqEnx7j"
      },
      "source": [
        "<h1 id=\"correct_data_format\">3. Correct data format</h1>\n",
        "<b>We are almost there!</b>\n",
        "<p>The last step in data cleaning is checking and making sure that all data is in the correct format (int, float, text or other).</p>\n",
        "\n",
        "In Pandas, we use \n",
        "<p><b>.dtype</b> to check the data type</p>\n",
        "<p><b>.astype</b> to change the data type</p>"
      ]
    },
    {
      "cell_type": "code",
      "metadata": {
        "id": "sFLxVEMMIbao",
        "outputId": "bed84779-d896-45ff-e2be-3f7ef162ebd6",
        "colab": {
          "base_uri": "https://localhost:8080/",
          "height": 35
        }
      },
      "source": [
        "df['sqft_living'].dtypes"
      ],
      "execution_count": 17,
      "outputs": [
        {
          "output_type": "execute_result",
          "data": {
            "text/plain": [
              "dtype('int64')"
            ]
          },
          "metadata": {
            "tags": []
          },
          "execution_count": 17
        }
      ]
    },
    {
      "cell_type": "code",
      "metadata": {
        "id": "WHtos7TfH73a"
      },
      "source": [
        "df['sqft_living'] = df['sqft_living'].astype(\"float\")"
      ],
      "execution_count": 18,
      "outputs": []
    },
    {
      "cell_type": "code",
      "metadata": {
        "id": "bUWog2FDIgZH",
        "outputId": "0e298e4f-1734-4d98-e3db-8ccc1e4eb3d5",
        "colab": {
          "base_uri": "https://localhost:8080/",
          "height": 35
        }
      },
      "source": [
        "df['sqft_living'].dtype"
      ],
      "execution_count": 19,
      "outputs": [
        {
          "output_type": "execute_result",
          "data": {
            "text/plain": [
              "dtype('float64')"
            ]
          },
          "metadata": {
            "tags": []
          },
          "execution_count": 19
        }
      ]
    },
    {
      "cell_type": "markdown",
      "metadata": {
        "id": "feUrhd1uVlZW"
      },
      "source": [
        "<h2 id=\"indicator\">Indicator variable (or dummy variable)</h2>\n",
        "<b>What is an indicator variable?</b>\n",
        "<p>\n",
        "    An indicator variable (or dummy variable) is a numerical variable used to label categories. They are called 'dummies' because the numbers themselves don't have inherent meaning. \n",
        "</p>\n",
        "\n",
        "<b>Why we use indicator variables?</b>\n",
        "<p>\n",
        "    because we cannot use categorical variables for regression analysis as string.\n",
        "</p>"
      ]
    },
    {
      "cell_type": "code",
      "metadata": {
        "id": "YrmNLLXsgY6O",
        "outputId": "b108c690-88f3-4918-92c9-7259b22f7897",
        "colab": {
          "base_uri": "https://localhost:8080/",
          "height": 35
        }
      },
      "source": [
        "df['Old'].unique()"
      ],
      "execution_count": 20,
      "outputs": [
        {
          "output_type": "execute_result",
          "data": {
            "text/plain": [
              "array(['yes', 'no', 'TRUE', 'FALSE', 'NO', 'YES'], dtype=object)"
            ]
          },
          "metadata": {
            "tags": []
          },
          "execution_count": 20
        }
      ]
    },
    {
      "cell_type": "code",
      "metadata": {
        "id": "7DSbSV0OYVpb",
        "outputId": "2dad27e4-f957-4ca2-825e-f12d4ad5a9eb",
        "colab": {
          "base_uri": "https://localhost:8080/",
          "height": 407
        }
      },
      "source": [
        "dummy_variable = pd.get_dummies(df[\"New\"], prefix=\"New\")\n",
        "dummy_variable"
      ],
      "execution_count": 21,
      "outputs": [
        {
          "output_type": "execute_result",
          "data": {
            "text/html": [
              "<div>\n",
              "<style scoped>\n",
              "    .dataframe tbody tr th:only-of-type {\n",
              "        vertical-align: middle;\n",
              "    }\n",
              "\n",
              "    .dataframe tbody tr th {\n",
              "        vertical-align: top;\n",
              "    }\n",
              "\n",
              "    .dataframe thead th {\n",
              "        text-align: right;\n",
              "    }\n",
              "</style>\n",
              "<table border=\"1\" class=\"dataframe\">\n",
              "  <thead>\n",
              "    <tr style=\"text-align: right;\">\n",
              "      <th></th>\n",
              "      <th>New_FALSE</th>\n",
              "      <th>New_NO</th>\n",
              "      <th>New_TRUE</th>\n",
              "      <th>New_YES</th>\n",
              "      <th>New_no</th>\n",
              "      <th>New_yes</th>\n",
              "    </tr>\n",
              "  </thead>\n",
              "  <tbody>\n",
              "    <tr>\n",
              "      <th>0</th>\n",
              "      <td>0</td>\n",
              "      <td>0</td>\n",
              "      <td>0</td>\n",
              "      <td>0</td>\n",
              "      <td>0</td>\n",
              "      <td>1</td>\n",
              "    </tr>\n",
              "    <tr>\n",
              "      <th>1</th>\n",
              "      <td>0</td>\n",
              "      <td>0</td>\n",
              "      <td>0</td>\n",
              "      <td>0</td>\n",
              "      <td>0</td>\n",
              "      <td>1</td>\n",
              "    </tr>\n",
              "    <tr>\n",
              "      <th>2</th>\n",
              "      <td>0</td>\n",
              "      <td>0</td>\n",
              "      <td>0</td>\n",
              "      <td>0</td>\n",
              "      <td>0</td>\n",
              "      <td>1</td>\n",
              "    </tr>\n",
              "    <tr>\n",
              "      <th>3</th>\n",
              "      <td>0</td>\n",
              "      <td>0</td>\n",
              "      <td>0</td>\n",
              "      <td>0</td>\n",
              "      <td>0</td>\n",
              "      <td>1</td>\n",
              "    </tr>\n",
              "    <tr>\n",
              "      <th>4</th>\n",
              "      <td>0</td>\n",
              "      <td>0</td>\n",
              "      <td>0</td>\n",
              "      <td>0</td>\n",
              "      <td>0</td>\n",
              "      <td>1</td>\n",
              "    </tr>\n",
              "    <tr>\n",
              "      <th>...</th>\n",
              "      <td>...</td>\n",
              "      <td>...</td>\n",
              "      <td>...</td>\n",
              "      <td>...</td>\n",
              "      <td>...</td>\n",
              "      <td>...</td>\n",
              "    </tr>\n",
              "    <tr>\n",
              "      <th>21610</th>\n",
              "      <td>0</td>\n",
              "      <td>0</td>\n",
              "      <td>0</td>\n",
              "      <td>0</td>\n",
              "      <td>1</td>\n",
              "      <td>0</td>\n",
              "    </tr>\n",
              "    <tr>\n",
              "      <th>21611</th>\n",
              "      <td>0</td>\n",
              "      <td>0</td>\n",
              "      <td>0</td>\n",
              "      <td>0</td>\n",
              "      <td>1</td>\n",
              "      <td>0</td>\n",
              "    </tr>\n",
              "    <tr>\n",
              "      <th>21612</th>\n",
              "      <td>0</td>\n",
              "      <td>0</td>\n",
              "      <td>0</td>\n",
              "      <td>0</td>\n",
              "      <td>1</td>\n",
              "      <td>0</td>\n",
              "    </tr>\n",
              "    <tr>\n",
              "      <th>21613</th>\n",
              "      <td>0</td>\n",
              "      <td>0</td>\n",
              "      <td>0</td>\n",
              "      <td>0</td>\n",
              "      <td>1</td>\n",
              "      <td>0</td>\n",
              "    </tr>\n",
              "    <tr>\n",
              "      <th>21614</th>\n",
              "      <td>0</td>\n",
              "      <td>0</td>\n",
              "      <td>0</td>\n",
              "      <td>0</td>\n",
              "      <td>1</td>\n",
              "      <td>0</td>\n",
              "    </tr>\n",
              "  </tbody>\n",
              "</table>\n",
              "<p>21611 rows × 6 columns</p>\n",
              "</div>"
            ],
            "text/plain": [
              "       New_FALSE  New_NO  New_TRUE  New_YES  New_no  New_yes\n",
              "0              0       0         0        0       0        1\n",
              "1              0       0         0        0       0        1\n",
              "2              0       0         0        0       0        1\n",
              "3              0       0         0        0       0        1\n",
              "4              0       0         0        0       0        1\n",
              "...          ...     ...       ...      ...     ...      ...\n",
              "21610          0       0         0        0       1        0\n",
              "21611          0       0         0        0       1        0\n",
              "21612          0       0         0        0       1        0\n",
              "21613          0       0         0        0       1        0\n",
              "21614          0       0         0        0       1        0\n",
              "\n",
              "[21611 rows x 6 columns]"
            ]
          },
          "metadata": {
            "tags": []
          },
          "execution_count": 21
        }
      ]
    },
    {
      "cell_type": "code",
      "metadata": {
        "id": "-CLIwxQA2gfC",
        "outputId": "4fb94581-5316-4a6b-84a2-7a97bc3ecf3b",
        "colab": {
          "base_uri": "https://localhost:8080/",
          "height": 35
        }
      },
      "source": [
        "# merge data frame \"df\" and \"dummy_variable\" \n",
        "'''\n",
        "df = pd.concat([df, dummy_variable], axis=1)\n",
        "df\n",
        "'''"
      ],
      "execution_count": 22,
      "outputs": [
        {
          "output_type": "execute_result",
          "data": {
            "application/vnd.google.colaboratory.intrinsic+json": {
              "type": "string"
            },
            "text/plain": [
              "'\\ndf = pd.concat([df, dummy_variable], axis=1)\\ndf\\n'"
            ]
          },
          "metadata": {
            "tags": []
          },
          "execution_count": 22
        }
      ]
    },
    {
      "cell_type": "markdown",
      "metadata": {
        "id": "J0sbXSZTYAdU"
      },
      "source": [
        "<h3>LabelEncoder</h3>"
      ]
    },
    {
      "cell_type": "code",
      "metadata": {
        "id": "CZwOUUViWQsR",
        "outputId": "1230cf8c-1bd8-4983-a1f1-a5a92e3c297c",
        "colab": {
          "base_uri": "https://localhost:8080/",
          "height": 427
        }
      },
      "source": [
        "from sklearn.preprocessing import LabelEncoder\n",
        "\n",
        "# creating instance of labelencoder\n",
        "labelencoder = LabelEncoder()\n",
        "# Assigning numerical values and storing in the column itself\n",
        "df['New'] = labelencoder.fit_transform(df['New'].astype(str))\n",
        "df\n"
      ],
      "execution_count": 23,
      "outputs": [
        {
          "output_type": "execute_result",
          "data": {
            "text/html": [
              "<div>\n",
              "<style scoped>\n",
              "    .dataframe tbody tr th:only-of-type {\n",
              "        vertical-align: middle;\n",
              "    }\n",
              "\n",
              "    .dataframe tbody tr th {\n",
              "        vertical-align: top;\n",
              "    }\n",
              "\n",
              "    .dataframe thead th {\n",
              "        text-align: right;\n",
              "    }\n",
              "</style>\n",
              "<table border=\"1\" class=\"dataframe\">\n",
              "  <thead>\n",
              "    <tr style=\"text-align: right;\">\n",
              "      <th></th>\n",
              "      <th>id</th>\n",
              "      <th>date</th>\n",
              "      <th>price</th>\n",
              "      <th>bedrooms</th>\n",
              "      <th>bathrooms</th>\n",
              "      <th>sqft_living</th>\n",
              "      <th>sqft_lot</th>\n",
              "      <th>floors</th>\n",
              "      <th>waterfront</th>\n",
              "      <th>view</th>\n",
              "      <th>condition</th>\n",
              "      <th>grade</th>\n",
              "      <th>sqft_above</th>\n",
              "      <th>sqft_basement</th>\n",
              "      <th>yr_built</th>\n",
              "      <th>zipcode</th>\n",
              "      <th>lat</th>\n",
              "      <th>long</th>\n",
              "      <th>sqft_living15</th>\n",
              "      <th>sqft_lot15</th>\n",
              "      <th>Old</th>\n",
              "      <th>New</th>\n",
              "    </tr>\n",
              "  </thead>\n",
              "  <tbody>\n",
              "    <tr>\n",
              "      <th>0</th>\n",
              "      <td>7129300520</td>\n",
              "      <td>20141013T000000</td>\n",
              "      <td>221900.0</td>\n",
              "      <td>3.0</td>\n",
              "      <td>2.0</td>\n",
              "      <td>1180.0</td>\n",
              "      <td>5650.0</td>\n",
              "      <td>1</td>\n",
              "      <td>NaN</td>\n",
              "      <td>0.0</td>\n",
              "      <td>3</td>\n",
              "      <td>7</td>\n",
              "      <td>1180</td>\n",
              "      <td>0</td>\n",
              "      <td>1955</td>\n",
              "      <td>98178</td>\n",
              "      <td>47.5112</td>\n",
              "      <td>-122.257</td>\n",
              "      <td>1340</td>\n",
              "      <td>5650</td>\n",
              "      <td>yes</td>\n",
              "      <td>6</td>\n",
              "    </tr>\n",
              "    <tr>\n",
              "      <th>1</th>\n",
              "      <td>6414100192</td>\n",
              "      <td>20141209T000000</td>\n",
              "      <td>538000.0</td>\n",
              "      <td>3.0</td>\n",
              "      <td>2.0</td>\n",
              "      <td>2570.0</td>\n",
              "      <td>7242.0</td>\n",
              "      <td>2</td>\n",
              "      <td>NaN</td>\n",
              "      <td>0.0</td>\n",
              "      <td>3</td>\n",
              "      <td>7</td>\n",
              "      <td>2170</td>\n",
              "      <td>400</td>\n",
              "      <td>1951</td>\n",
              "      <td>98125</td>\n",
              "      <td>47.7210</td>\n",
              "      <td>-122.319</td>\n",
              "      <td>1690</td>\n",
              "      <td>7639</td>\n",
              "      <td>yes</td>\n",
              "      <td>6</td>\n",
              "    </tr>\n",
              "    <tr>\n",
              "      <th>2</th>\n",
              "      <td>5631500400</td>\n",
              "      <td>20150225T000000</td>\n",
              "      <td>180000.0</td>\n",
              "      <td>2.0</td>\n",
              "      <td>1.0</td>\n",
              "      <td>770.0</td>\n",
              "      <td>10000.0</td>\n",
              "      <td>1</td>\n",
              "      <td>0</td>\n",
              "      <td>0.0</td>\n",
              "      <td>3</td>\n",
              "      <td>6</td>\n",
              "      <td>770</td>\n",
              "      <td>0</td>\n",
              "      <td>1933</td>\n",
              "      <td>98028</td>\n",
              "      <td>47.7379</td>\n",
              "      <td>-122.233</td>\n",
              "      <td>2720</td>\n",
              "      <td>8062</td>\n",
              "      <td>yes</td>\n",
              "      <td>6</td>\n",
              "    </tr>\n",
              "    <tr>\n",
              "      <th>3</th>\n",
              "      <td>2487200875</td>\n",
              "      <td>20141209T000000</td>\n",
              "      <td>604000.0</td>\n",
              "      <td>4.0</td>\n",
              "      <td>3.0</td>\n",
              "      <td>1960.0</td>\n",
              "      <td>5000.0</td>\n",
              "      <td>1</td>\n",
              "      <td>0</td>\n",
              "      <td>0.0</td>\n",
              "      <td>5</td>\n",
              "      <td>7</td>\n",
              "      <td>1050</td>\n",
              "      <td>910</td>\n",
              "      <td>1965</td>\n",
              "      <td>98136</td>\n",
              "      <td>47.5208</td>\n",
              "      <td>-122.393</td>\n",
              "      <td>1360</td>\n",
              "      <td>5000</td>\n",
              "      <td>yes</td>\n",
              "      <td>6</td>\n",
              "    </tr>\n",
              "    <tr>\n",
              "      <th>4</th>\n",
              "      <td>1954400510</td>\n",
              "      <td>20150218T000000</td>\n",
              "      <td>510000.0</td>\n",
              "      <td>3.0</td>\n",
              "      <td>2.0</td>\n",
              "      <td>1680.0</td>\n",
              "      <td>8080.0</td>\n",
              "      <td>1</td>\n",
              "      <td>0</td>\n",
              "      <td>0.0</td>\n",
              "      <td>3</td>\n",
              "      <td>8</td>\n",
              "      <td>1680</td>\n",
              "      <td>0</td>\n",
              "      <td>1987</td>\n",
              "      <td>98074</td>\n",
              "      <td>47.6168</td>\n",
              "      <td>-122.045</td>\n",
              "      <td>1800</td>\n",
              "      <td>7503</td>\n",
              "      <td>yes</td>\n",
              "      <td>6</td>\n",
              "    </tr>\n",
              "    <tr>\n",
              "      <th>...</th>\n",
              "      <td>...</td>\n",
              "      <td>...</td>\n",
              "      <td>...</td>\n",
              "      <td>...</td>\n",
              "      <td>...</td>\n",
              "      <td>...</td>\n",
              "      <td>...</td>\n",
              "      <td>...</td>\n",
              "      <td>...</td>\n",
              "      <td>...</td>\n",
              "      <td>...</td>\n",
              "      <td>...</td>\n",
              "      <td>...</td>\n",
              "      <td>...</td>\n",
              "      <td>...</td>\n",
              "      <td>...</td>\n",
              "      <td>...</td>\n",
              "      <td>...</td>\n",
              "      <td>...</td>\n",
              "      <td>...</td>\n",
              "      <td>...</td>\n",
              "      <td>...</td>\n",
              "    </tr>\n",
              "    <tr>\n",
              "      <th>21610</th>\n",
              "      <td>1523300141</td>\n",
              "      <td>20140623T000000</td>\n",
              "      <td>402101.0</td>\n",
              "      <td>2.0</td>\n",
              "      <td>1.0</td>\n",
              "      <td>1020.0</td>\n",
              "      <td>1350.0</td>\n",
              "      <td>2</td>\n",
              "      <td>0</td>\n",
              "      <td>0.0</td>\n",
              "      <td>3</td>\n",
              "      <td>7</td>\n",
              "      <td>1020</td>\n",
              "      <td>0</td>\n",
              "      <td>2009</td>\n",
              "      <td>98144</td>\n",
              "      <td>47.5944</td>\n",
              "      <td>-122.299</td>\n",
              "      <td>1020</td>\n",
              "      <td>2007</td>\n",
              "      <td>no</td>\n",
              "      <td>5</td>\n",
              "    </tr>\n",
              "    <tr>\n",
              "      <th>21611</th>\n",
              "      <td>291310100</td>\n",
              "      <td>20150116T000000</td>\n",
              "      <td>400000.0</td>\n",
              "      <td>3.0</td>\n",
              "      <td>3.0</td>\n",
              "      <td>1600.0</td>\n",
              "      <td>2388.0</td>\n",
              "      <td>2</td>\n",
              "      <td>0</td>\n",
              "      <td>0.0</td>\n",
              "      <td>3</td>\n",
              "      <td>8</td>\n",
              "      <td>1600</td>\n",
              "      <td>0</td>\n",
              "      <td>2004</td>\n",
              "      <td>98027</td>\n",
              "      <td>47.5345</td>\n",
              "      <td>-122.069</td>\n",
              "      <td>1410</td>\n",
              "      <td>1287</td>\n",
              "      <td>no</td>\n",
              "      <td>5</td>\n",
              "    </tr>\n",
              "    <tr>\n",
              "      <th>21612</th>\n",
              "      <td>1523300157</td>\n",
              "      <td>20141015T000000</td>\n",
              "      <td>325000.0</td>\n",
              "      <td>2.0</td>\n",
              "      <td>1.0</td>\n",
              "      <td>1020.0</td>\n",
              "      <td>1076.0</td>\n",
              "      <td>2</td>\n",
              "      <td>0</td>\n",
              "      <td>0.0</td>\n",
              "      <td>3</td>\n",
              "      <td>7</td>\n",
              "      <td>1020</td>\n",
              "      <td>0</td>\n",
              "      <td>2008</td>\n",
              "      <td>98144</td>\n",
              "      <td>47.5941</td>\n",
              "      <td>-122.299</td>\n",
              "      <td>1020</td>\n",
              "      <td>1357</td>\n",
              "      <td>no</td>\n",
              "      <td>5</td>\n",
              "    </tr>\n",
              "    <tr>\n",
              "      <th>21613</th>\n",
              "      <td>291310100</td>\n",
              "      <td>20150116T000000</td>\n",
              "      <td>400000.0</td>\n",
              "      <td>3.0</td>\n",
              "      <td>3.0</td>\n",
              "      <td>1600.0</td>\n",
              "      <td>2388.0</td>\n",
              "      <td>2</td>\n",
              "      <td>0</td>\n",
              "      <td>0.0</td>\n",
              "      <td>3</td>\n",
              "      <td>8</td>\n",
              "      <td>1600</td>\n",
              "      <td>0</td>\n",
              "      <td>2004</td>\n",
              "      <td>98027</td>\n",
              "      <td>47.5345</td>\n",
              "      <td>-122.069</td>\n",
              "      <td>1410</td>\n",
              "      <td>1287</td>\n",
              "      <td>no</td>\n",
              "      <td>5</td>\n",
              "    </tr>\n",
              "    <tr>\n",
              "      <th>21614</th>\n",
              "      <td>1523300157</td>\n",
              "      <td>20141015T000000</td>\n",
              "      <td>325000.0</td>\n",
              "      <td>2.0</td>\n",
              "      <td>1.0</td>\n",
              "      <td>1020.0</td>\n",
              "      <td>1076.0</td>\n",
              "      <td>2</td>\n",
              "      <td>0</td>\n",
              "      <td>0.0</td>\n",
              "      <td>3</td>\n",
              "      <td>7</td>\n",
              "      <td>1020</td>\n",
              "      <td>0</td>\n",
              "      <td>2008</td>\n",
              "      <td>98144</td>\n",
              "      <td>47.5941</td>\n",
              "      <td>-122.299</td>\n",
              "      <td>1020</td>\n",
              "      <td>1357</td>\n",
              "      <td>no</td>\n",
              "      <td>5</td>\n",
              "    </tr>\n",
              "  </tbody>\n",
              "</table>\n",
              "<p>21611 rows × 22 columns</p>\n",
              "</div>"
            ],
            "text/plain": [
              "               id             date     price  ...  sqft_lot15  Old  New\n",
              "0      7129300520  20141013T000000  221900.0  ...        5650  yes    6\n",
              "1      6414100192  20141209T000000  538000.0  ...        7639  yes    6\n",
              "2      5631500400  20150225T000000  180000.0  ...        8062  yes    6\n",
              "3      2487200875  20141209T000000  604000.0  ...        5000  yes    6\n",
              "4      1954400510  20150218T000000  510000.0  ...        7503  yes    6\n",
              "...           ...              ...       ...  ...         ...  ...  ...\n",
              "21610  1523300141  20140623T000000  402101.0  ...        2007   no    5\n",
              "21611   291310100  20150116T000000  400000.0  ...        1287   no    5\n",
              "21612  1523300157  20141015T000000  325000.0  ...        1357   no    5\n",
              "21613   291310100  20150116T000000  400000.0  ...        1287   no    5\n",
              "21614  1523300157  20141015T000000  325000.0  ...        1357   no    5\n",
              "\n",
              "[21611 rows x 22 columns]"
            ]
          },
          "metadata": {
            "tags": []
          },
          "execution_count": 23
        }
      ]
    },
    {
      "cell_type": "markdown",
      "metadata": {
        "id": "ibsO9nKdX4mH"
      },
      "source": [
        "<h3>OneHotEncoder</h3>"
      ]
    },
    {
      "cell_type": "code",
      "metadata": {
        "id": "iTGckV8RW7Ld",
        "outputId": "62d465a0-9090-4ae4-89a4-6c6b47733767",
        "colab": {
          "base_uri": "https://localhost:8080/",
          "height": 407
        }
      },
      "source": [
        "from sklearn.preprocessing import OneHotEncoder\n",
        "# creating instance of one-hot-encoder\n",
        "One_hot_encoder = OneHotEncoder(handle_unknown='ignore')\n",
        "# passing the column (label encoded values)\n",
        "enc_df = pd.DataFrame(One_hot_encoder.fit_transform(df[['Old']]).toarray())\n",
        "enc_df"
      ],
      "execution_count": 24,
      "outputs": [
        {
          "output_type": "execute_result",
          "data": {
            "text/html": [
              "<div>\n",
              "<style scoped>\n",
              "    .dataframe tbody tr th:only-of-type {\n",
              "        vertical-align: middle;\n",
              "    }\n",
              "\n",
              "    .dataframe tbody tr th {\n",
              "        vertical-align: top;\n",
              "    }\n",
              "\n",
              "    .dataframe thead th {\n",
              "        text-align: right;\n",
              "    }\n",
              "</style>\n",
              "<table border=\"1\" class=\"dataframe\">\n",
              "  <thead>\n",
              "    <tr style=\"text-align: right;\">\n",
              "      <th></th>\n",
              "      <th>0</th>\n",
              "      <th>1</th>\n",
              "      <th>2</th>\n",
              "      <th>3</th>\n",
              "      <th>4</th>\n",
              "      <th>5</th>\n",
              "    </tr>\n",
              "  </thead>\n",
              "  <tbody>\n",
              "    <tr>\n",
              "      <th>0</th>\n",
              "      <td>0.0</td>\n",
              "      <td>0.0</td>\n",
              "      <td>0.0</td>\n",
              "      <td>0.0</td>\n",
              "      <td>0.0</td>\n",
              "      <td>1.0</td>\n",
              "    </tr>\n",
              "    <tr>\n",
              "      <th>1</th>\n",
              "      <td>0.0</td>\n",
              "      <td>0.0</td>\n",
              "      <td>0.0</td>\n",
              "      <td>0.0</td>\n",
              "      <td>0.0</td>\n",
              "      <td>1.0</td>\n",
              "    </tr>\n",
              "    <tr>\n",
              "      <th>2</th>\n",
              "      <td>0.0</td>\n",
              "      <td>0.0</td>\n",
              "      <td>0.0</td>\n",
              "      <td>0.0</td>\n",
              "      <td>0.0</td>\n",
              "      <td>1.0</td>\n",
              "    </tr>\n",
              "    <tr>\n",
              "      <th>3</th>\n",
              "      <td>0.0</td>\n",
              "      <td>0.0</td>\n",
              "      <td>0.0</td>\n",
              "      <td>0.0</td>\n",
              "      <td>0.0</td>\n",
              "      <td>1.0</td>\n",
              "    </tr>\n",
              "    <tr>\n",
              "      <th>4</th>\n",
              "      <td>0.0</td>\n",
              "      <td>0.0</td>\n",
              "      <td>0.0</td>\n",
              "      <td>0.0</td>\n",
              "      <td>0.0</td>\n",
              "      <td>1.0</td>\n",
              "    </tr>\n",
              "    <tr>\n",
              "      <th>...</th>\n",
              "      <td>...</td>\n",
              "      <td>...</td>\n",
              "      <td>...</td>\n",
              "      <td>...</td>\n",
              "      <td>...</td>\n",
              "      <td>...</td>\n",
              "    </tr>\n",
              "    <tr>\n",
              "      <th>21606</th>\n",
              "      <td>0.0</td>\n",
              "      <td>0.0</td>\n",
              "      <td>0.0</td>\n",
              "      <td>0.0</td>\n",
              "      <td>1.0</td>\n",
              "      <td>0.0</td>\n",
              "    </tr>\n",
              "    <tr>\n",
              "      <th>21607</th>\n",
              "      <td>0.0</td>\n",
              "      <td>0.0</td>\n",
              "      <td>0.0</td>\n",
              "      <td>0.0</td>\n",
              "      <td>1.0</td>\n",
              "      <td>0.0</td>\n",
              "    </tr>\n",
              "    <tr>\n",
              "      <th>21608</th>\n",
              "      <td>0.0</td>\n",
              "      <td>0.0</td>\n",
              "      <td>0.0</td>\n",
              "      <td>0.0</td>\n",
              "      <td>1.0</td>\n",
              "      <td>0.0</td>\n",
              "    </tr>\n",
              "    <tr>\n",
              "      <th>21609</th>\n",
              "      <td>0.0</td>\n",
              "      <td>0.0</td>\n",
              "      <td>0.0</td>\n",
              "      <td>0.0</td>\n",
              "      <td>1.0</td>\n",
              "      <td>0.0</td>\n",
              "    </tr>\n",
              "    <tr>\n",
              "      <th>21610</th>\n",
              "      <td>0.0</td>\n",
              "      <td>0.0</td>\n",
              "      <td>0.0</td>\n",
              "      <td>0.0</td>\n",
              "      <td>1.0</td>\n",
              "      <td>0.0</td>\n",
              "    </tr>\n",
              "  </tbody>\n",
              "</table>\n",
              "<p>21611 rows × 6 columns</p>\n",
              "</div>"
            ],
            "text/plain": [
              "         0    1    2    3    4    5\n",
              "0      0.0  0.0  0.0  0.0  0.0  1.0\n",
              "1      0.0  0.0  0.0  0.0  0.0  1.0\n",
              "2      0.0  0.0  0.0  0.0  0.0  1.0\n",
              "3      0.0  0.0  0.0  0.0  0.0  1.0\n",
              "4      0.0  0.0  0.0  0.0  0.0  1.0\n",
              "...    ...  ...  ...  ...  ...  ...\n",
              "21606  0.0  0.0  0.0  0.0  1.0  0.0\n",
              "21607  0.0  0.0  0.0  0.0  1.0  0.0\n",
              "21608  0.0  0.0  0.0  0.0  1.0  0.0\n",
              "21609  0.0  0.0  0.0  0.0  1.0  0.0\n",
              "21610  0.0  0.0  0.0  0.0  1.0  0.0\n",
              "\n",
              "[21611 rows x 6 columns]"
            ]
          },
          "metadata": {
            "tags": []
          },
          "execution_count": 24
        }
      ]
    },
    {
      "cell_type": "code",
      "metadata": {
        "id": "PM0I12Fi2-eL",
        "outputId": "9f781edc-d7e6-4de8-ff80-43b3cd8db49e",
        "colab": {
          "base_uri": "https://localhost:8080/",
          "height": 35
        }
      },
      "source": [
        "# merge with main df on key values\n",
        "'''\n",
        "df = df.join(enc_df)\n",
        "df\n",
        "'''"
      ],
      "execution_count": 25,
      "outputs": [
        {
          "output_type": "execute_result",
          "data": {
            "application/vnd.google.colaboratory.intrinsic+json": {
              "type": "string"
            },
            "text/plain": [
              "'\\ndf = df.join(enc_df)\\ndf\\n'"
            ]
          },
          "metadata": {
            "tags": []
          },
          "execution_count": 25
        }
      ]
    },
    {
      "cell_type": "markdown",
      "metadata": {
        "id": "i6vr8TouS-ut"
      },
      "source": [
        "<h3>Remove any duplicates</h3>\n"
      ]
    },
    {
      "cell_type": "code",
      "metadata": {
        "id": "7kX8iPHn3o_H",
        "outputId": "b427e305-733e-4571-8dea-4ca86445f571",
        "colab": {
          "base_uri": "https://localhost:8080/",
          "height": 427
        }
      },
      "source": [
        "# before Removing duplicates\n",
        "df"
      ],
      "execution_count": 26,
      "outputs": [
        {
          "output_type": "execute_result",
          "data": {
            "text/html": [
              "<div>\n",
              "<style scoped>\n",
              "    .dataframe tbody tr th:only-of-type {\n",
              "        vertical-align: middle;\n",
              "    }\n",
              "\n",
              "    .dataframe tbody tr th {\n",
              "        vertical-align: top;\n",
              "    }\n",
              "\n",
              "    .dataframe thead th {\n",
              "        text-align: right;\n",
              "    }\n",
              "</style>\n",
              "<table border=\"1\" class=\"dataframe\">\n",
              "  <thead>\n",
              "    <tr style=\"text-align: right;\">\n",
              "      <th></th>\n",
              "      <th>id</th>\n",
              "      <th>date</th>\n",
              "      <th>price</th>\n",
              "      <th>bedrooms</th>\n",
              "      <th>bathrooms</th>\n",
              "      <th>sqft_living</th>\n",
              "      <th>sqft_lot</th>\n",
              "      <th>floors</th>\n",
              "      <th>waterfront</th>\n",
              "      <th>view</th>\n",
              "      <th>condition</th>\n",
              "      <th>grade</th>\n",
              "      <th>sqft_above</th>\n",
              "      <th>sqft_basement</th>\n",
              "      <th>yr_built</th>\n",
              "      <th>zipcode</th>\n",
              "      <th>lat</th>\n",
              "      <th>long</th>\n",
              "      <th>sqft_living15</th>\n",
              "      <th>sqft_lot15</th>\n",
              "      <th>Old</th>\n",
              "      <th>New</th>\n",
              "    </tr>\n",
              "  </thead>\n",
              "  <tbody>\n",
              "    <tr>\n",
              "      <th>0</th>\n",
              "      <td>7129300520</td>\n",
              "      <td>20141013T000000</td>\n",
              "      <td>221900.0</td>\n",
              "      <td>3.0</td>\n",
              "      <td>2.0</td>\n",
              "      <td>1180.0</td>\n",
              "      <td>5650.0</td>\n",
              "      <td>1</td>\n",
              "      <td>NaN</td>\n",
              "      <td>0.0</td>\n",
              "      <td>3</td>\n",
              "      <td>7</td>\n",
              "      <td>1180</td>\n",
              "      <td>0</td>\n",
              "      <td>1955</td>\n",
              "      <td>98178</td>\n",
              "      <td>47.5112</td>\n",
              "      <td>-122.257</td>\n",
              "      <td>1340</td>\n",
              "      <td>5650</td>\n",
              "      <td>yes</td>\n",
              "      <td>6</td>\n",
              "    </tr>\n",
              "    <tr>\n",
              "      <th>1</th>\n",
              "      <td>6414100192</td>\n",
              "      <td>20141209T000000</td>\n",
              "      <td>538000.0</td>\n",
              "      <td>3.0</td>\n",
              "      <td>2.0</td>\n",
              "      <td>2570.0</td>\n",
              "      <td>7242.0</td>\n",
              "      <td>2</td>\n",
              "      <td>NaN</td>\n",
              "      <td>0.0</td>\n",
              "      <td>3</td>\n",
              "      <td>7</td>\n",
              "      <td>2170</td>\n",
              "      <td>400</td>\n",
              "      <td>1951</td>\n",
              "      <td>98125</td>\n",
              "      <td>47.7210</td>\n",
              "      <td>-122.319</td>\n",
              "      <td>1690</td>\n",
              "      <td>7639</td>\n",
              "      <td>yes</td>\n",
              "      <td>6</td>\n",
              "    </tr>\n",
              "    <tr>\n",
              "      <th>2</th>\n",
              "      <td>5631500400</td>\n",
              "      <td>20150225T000000</td>\n",
              "      <td>180000.0</td>\n",
              "      <td>2.0</td>\n",
              "      <td>1.0</td>\n",
              "      <td>770.0</td>\n",
              "      <td>10000.0</td>\n",
              "      <td>1</td>\n",
              "      <td>0</td>\n",
              "      <td>0.0</td>\n",
              "      <td>3</td>\n",
              "      <td>6</td>\n",
              "      <td>770</td>\n",
              "      <td>0</td>\n",
              "      <td>1933</td>\n",
              "      <td>98028</td>\n",
              "      <td>47.7379</td>\n",
              "      <td>-122.233</td>\n",
              "      <td>2720</td>\n",
              "      <td>8062</td>\n",
              "      <td>yes</td>\n",
              "      <td>6</td>\n",
              "    </tr>\n",
              "    <tr>\n",
              "      <th>3</th>\n",
              "      <td>2487200875</td>\n",
              "      <td>20141209T000000</td>\n",
              "      <td>604000.0</td>\n",
              "      <td>4.0</td>\n",
              "      <td>3.0</td>\n",
              "      <td>1960.0</td>\n",
              "      <td>5000.0</td>\n",
              "      <td>1</td>\n",
              "      <td>0</td>\n",
              "      <td>0.0</td>\n",
              "      <td>5</td>\n",
              "      <td>7</td>\n",
              "      <td>1050</td>\n",
              "      <td>910</td>\n",
              "      <td>1965</td>\n",
              "      <td>98136</td>\n",
              "      <td>47.5208</td>\n",
              "      <td>-122.393</td>\n",
              "      <td>1360</td>\n",
              "      <td>5000</td>\n",
              "      <td>yes</td>\n",
              "      <td>6</td>\n",
              "    </tr>\n",
              "    <tr>\n",
              "      <th>4</th>\n",
              "      <td>1954400510</td>\n",
              "      <td>20150218T000000</td>\n",
              "      <td>510000.0</td>\n",
              "      <td>3.0</td>\n",
              "      <td>2.0</td>\n",
              "      <td>1680.0</td>\n",
              "      <td>8080.0</td>\n",
              "      <td>1</td>\n",
              "      <td>0</td>\n",
              "      <td>0.0</td>\n",
              "      <td>3</td>\n",
              "      <td>8</td>\n",
              "      <td>1680</td>\n",
              "      <td>0</td>\n",
              "      <td>1987</td>\n",
              "      <td>98074</td>\n",
              "      <td>47.6168</td>\n",
              "      <td>-122.045</td>\n",
              "      <td>1800</td>\n",
              "      <td>7503</td>\n",
              "      <td>yes</td>\n",
              "      <td>6</td>\n",
              "    </tr>\n",
              "    <tr>\n",
              "      <th>...</th>\n",
              "      <td>...</td>\n",
              "      <td>...</td>\n",
              "      <td>...</td>\n",
              "      <td>...</td>\n",
              "      <td>...</td>\n",
              "      <td>...</td>\n",
              "      <td>...</td>\n",
              "      <td>...</td>\n",
              "      <td>...</td>\n",
              "      <td>...</td>\n",
              "      <td>...</td>\n",
              "      <td>...</td>\n",
              "      <td>...</td>\n",
              "      <td>...</td>\n",
              "      <td>...</td>\n",
              "      <td>...</td>\n",
              "      <td>...</td>\n",
              "      <td>...</td>\n",
              "      <td>...</td>\n",
              "      <td>...</td>\n",
              "      <td>...</td>\n",
              "      <td>...</td>\n",
              "    </tr>\n",
              "    <tr>\n",
              "      <th>21610</th>\n",
              "      <td>1523300141</td>\n",
              "      <td>20140623T000000</td>\n",
              "      <td>402101.0</td>\n",
              "      <td>2.0</td>\n",
              "      <td>1.0</td>\n",
              "      <td>1020.0</td>\n",
              "      <td>1350.0</td>\n",
              "      <td>2</td>\n",
              "      <td>0</td>\n",
              "      <td>0.0</td>\n",
              "      <td>3</td>\n",
              "      <td>7</td>\n",
              "      <td>1020</td>\n",
              "      <td>0</td>\n",
              "      <td>2009</td>\n",
              "      <td>98144</td>\n",
              "      <td>47.5944</td>\n",
              "      <td>-122.299</td>\n",
              "      <td>1020</td>\n",
              "      <td>2007</td>\n",
              "      <td>no</td>\n",
              "      <td>5</td>\n",
              "    </tr>\n",
              "    <tr>\n",
              "      <th>21611</th>\n",
              "      <td>291310100</td>\n",
              "      <td>20150116T000000</td>\n",
              "      <td>400000.0</td>\n",
              "      <td>3.0</td>\n",
              "      <td>3.0</td>\n",
              "      <td>1600.0</td>\n",
              "      <td>2388.0</td>\n",
              "      <td>2</td>\n",
              "      <td>0</td>\n",
              "      <td>0.0</td>\n",
              "      <td>3</td>\n",
              "      <td>8</td>\n",
              "      <td>1600</td>\n",
              "      <td>0</td>\n",
              "      <td>2004</td>\n",
              "      <td>98027</td>\n",
              "      <td>47.5345</td>\n",
              "      <td>-122.069</td>\n",
              "      <td>1410</td>\n",
              "      <td>1287</td>\n",
              "      <td>no</td>\n",
              "      <td>5</td>\n",
              "    </tr>\n",
              "    <tr>\n",
              "      <th>21612</th>\n",
              "      <td>1523300157</td>\n",
              "      <td>20141015T000000</td>\n",
              "      <td>325000.0</td>\n",
              "      <td>2.0</td>\n",
              "      <td>1.0</td>\n",
              "      <td>1020.0</td>\n",
              "      <td>1076.0</td>\n",
              "      <td>2</td>\n",
              "      <td>0</td>\n",
              "      <td>0.0</td>\n",
              "      <td>3</td>\n",
              "      <td>7</td>\n",
              "      <td>1020</td>\n",
              "      <td>0</td>\n",
              "      <td>2008</td>\n",
              "      <td>98144</td>\n",
              "      <td>47.5941</td>\n",
              "      <td>-122.299</td>\n",
              "      <td>1020</td>\n",
              "      <td>1357</td>\n",
              "      <td>no</td>\n",
              "      <td>5</td>\n",
              "    </tr>\n",
              "    <tr>\n",
              "      <th>21613</th>\n",
              "      <td>291310100</td>\n",
              "      <td>20150116T000000</td>\n",
              "      <td>400000.0</td>\n",
              "      <td>3.0</td>\n",
              "      <td>3.0</td>\n",
              "      <td>1600.0</td>\n",
              "      <td>2388.0</td>\n",
              "      <td>2</td>\n",
              "      <td>0</td>\n",
              "      <td>0.0</td>\n",
              "      <td>3</td>\n",
              "      <td>8</td>\n",
              "      <td>1600</td>\n",
              "      <td>0</td>\n",
              "      <td>2004</td>\n",
              "      <td>98027</td>\n",
              "      <td>47.5345</td>\n",
              "      <td>-122.069</td>\n",
              "      <td>1410</td>\n",
              "      <td>1287</td>\n",
              "      <td>no</td>\n",
              "      <td>5</td>\n",
              "    </tr>\n",
              "    <tr>\n",
              "      <th>21614</th>\n",
              "      <td>1523300157</td>\n",
              "      <td>20141015T000000</td>\n",
              "      <td>325000.0</td>\n",
              "      <td>2.0</td>\n",
              "      <td>1.0</td>\n",
              "      <td>1020.0</td>\n",
              "      <td>1076.0</td>\n",
              "      <td>2</td>\n",
              "      <td>0</td>\n",
              "      <td>0.0</td>\n",
              "      <td>3</td>\n",
              "      <td>7</td>\n",
              "      <td>1020</td>\n",
              "      <td>0</td>\n",
              "      <td>2008</td>\n",
              "      <td>98144</td>\n",
              "      <td>47.5941</td>\n",
              "      <td>-122.299</td>\n",
              "      <td>1020</td>\n",
              "      <td>1357</td>\n",
              "      <td>no</td>\n",
              "      <td>5</td>\n",
              "    </tr>\n",
              "  </tbody>\n",
              "</table>\n",
              "<p>21611 rows × 22 columns</p>\n",
              "</div>"
            ],
            "text/plain": [
              "               id             date     price  ...  sqft_lot15  Old  New\n",
              "0      7129300520  20141013T000000  221900.0  ...        5650  yes    6\n",
              "1      6414100192  20141209T000000  538000.0  ...        7639  yes    6\n",
              "2      5631500400  20150225T000000  180000.0  ...        8062  yes    6\n",
              "3      2487200875  20141209T000000  604000.0  ...        5000  yes    6\n",
              "4      1954400510  20150218T000000  510000.0  ...        7503  yes    6\n",
              "...           ...              ...       ...  ...         ...  ...  ...\n",
              "21610  1523300141  20140623T000000  402101.0  ...        2007   no    5\n",
              "21611   291310100  20150116T000000  400000.0  ...        1287   no    5\n",
              "21612  1523300157  20141015T000000  325000.0  ...        1357   no    5\n",
              "21613   291310100  20150116T000000  400000.0  ...        1287   no    5\n",
              "21614  1523300157  20141015T000000  325000.0  ...        1357   no    5\n",
              "\n",
              "[21611 rows x 22 columns]"
            ]
          },
          "metadata": {
            "tags": []
          },
          "execution_count": 26
        }
      ]
    },
    {
      "cell_type": "code",
      "metadata": {
        "id": "HkQgk10ZS_Rk"
      },
      "source": [
        "df = df.drop_duplicates()"
      ],
      "execution_count": 27,
      "outputs": []
    },
    {
      "cell_type": "code",
      "metadata": {
        "id": "4g58eatsTW-8",
        "outputId": "42c7ebe5-890c-429e-ae6e-2c2e1461aeb6",
        "colab": {
          "base_uri": "https://localhost:8080/",
          "height": 427
        }
      },
      "source": [
        "# After Removing duplicates\n",
        "df"
      ],
      "execution_count": 28,
      "outputs": [
        {
          "output_type": "execute_result",
          "data": {
            "text/html": [
              "<div>\n",
              "<style scoped>\n",
              "    .dataframe tbody tr th:only-of-type {\n",
              "        vertical-align: middle;\n",
              "    }\n",
              "\n",
              "    .dataframe tbody tr th {\n",
              "        vertical-align: top;\n",
              "    }\n",
              "\n",
              "    .dataframe thead th {\n",
              "        text-align: right;\n",
              "    }\n",
              "</style>\n",
              "<table border=\"1\" class=\"dataframe\">\n",
              "  <thead>\n",
              "    <tr style=\"text-align: right;\">\n",
              "      <th></th>\n",
              "      <th>id</th>\n",
              "      <th>date</th>\n",
              "      <th>price</th>\n",
              "      <th>bedrooms</th>\n",
              "      <th>bathrooms</th>\n",
              "      <th>sqft_living</th>\n",
              "      <th>sqft_lot</th>\n",
              "      <th>floors</th>\n",
              "      <th>waterfront</th>\n",
              "      <th>view</th>\n",
              "      <th>condition</th>\n",
              "      <th>grade</th>\n",
              "      <th>sqft_above</th>\n",
              "      <th>sqft_basement</th>\n",
              "      <th>yr_built</th>\n",
              "      <th>zipcode</th>\n",
              "      <th>lat</th>\n",
              "      <th>long</th>\n",
              "      <th>sqft_living15</th>\n",
              "      <th>sqft_lot15</th>\n",
              "      <th>Old</th>\n",
              "      <th>New</th>\n",
              "    </tr>\n",
              "  </thead>\n",
              "  <tbody>\n",
              "    <tr>\n",
              "      <th>0</th>\n",
              "      <td>7129300520</td>\n",
              "      <td>20141013T000000</td>\n",
              "      <td>221900.0</td>\n",
              "      <td>3.0</td>\n",
              "      <td>2.0</td>\n",
              "      <td>1180.0</td>\n",
              "      <td>5650.0</td>\n",
              "      <td>1</td>\n",
              "      <td>NaN</td>\n",
              "      <td>0.0</td>\n",
              "      <td>3</td>\n",
              "      <td>7</td>\n",
              "      <td>1180</td>\n",
              "      <td>0</td>\n",
              "      <td>1955</td>\n",
              "      <td>98178</td>\n",
              "      <td>47.5112</td>\n",
              "      <td>-122.257</td>\n",
              "      <td>1340</td>\n",
              "      <td>5650</td>\n",
              "      <td>yes</td>\n",
              "      <td>6</td>\n",
              "    </tr>\n",
              "    <tr>\n",
              "      <th>1</th>\n",
              "      <td>6414100192</td>\n",
              "      <td>20141209T000000</td>\n",
              "      <td>538000.0</td>\n",
              "      <td>3.0</td>\n",
              "      <td>2.0</td>\n",
              "      <td>2570.0</td>\n",
              "      <td>7242.0</td>\n",
              "      <td>2</td>\n",
              "      <td>NaN</td>\n",
              "      <td>0.0</td>\n",
              "      <td>3</td>\n",
              "      <td>7</td>\n",
              "      <td>2170</td>\n",
              "      <td>400</td>\n",
              "      <td>1951</td>\n",
              "      <td>98125</td>\n",
              "      <td>47.7210</td>\n",
              "      <td>-122.319</td>\n",
              "      <td>1690</td>\n",
              "      <td>7639</td>\n",
              "      <td>yes</td>\n",
              "      <td>6</td>\n",
              "    </tr>\n",
              "    <tr>\n",
              "      <th>2</th>\n",
              "      <td>5631500400</td>\n",
              "      <td>20150225T000000</td>\n",
              "      <td>180000.0</td>\n",
              "      <td>2.0</td>\n",
              "      <td>1.0</td>\n",
              "      <td>770.0</td>\n",
              "      <td>10000.0</td>\n",
              "      <td>1</td>\n",
              "      <td>0</td>\n",
              "      <td>0.0</td>\n",
              "      <td>3</td>\n",
              "      <td>6</td>\n",
              "      <td>770</td>\n",
              "      <td>0</td>\n",
              "      <td>1933</td>\n",
              "      <td>98028</td>\n",
              "      <td>47.7379</td>\n",
              "      <td>-122.233</td>\n",
              "      <td>2720</td>\n",
              "      <td>8062</td>\n",
              "      <td>yes</td>\n",
              "      <td>6</td>\n",
              "    </tr>\n",
              "    <tr>\n",
              "      <th>3</th>\n",
              "      <td>2487200875</td>\n",
              "      <td>20141209T000000</td>\n",
              "      <td>604000.0</td>\n",
              "      <td>4.0</td>\n",
              "      <td>3.0</td>\n",
              "      <td>1960.0</td>\n",
              "      <td>5000.0</td>\n",
              "      <td>1</td>\n",
              "      <td>0</td>\n",
              "      <td>0.0</td>\n",
              "      <td>5</td>\n",
              "      <td>7</td>\n",
              "      <td>1050</td>\n",
              "      <td>910</td>\n",
              "      <td>1965</td>\n",
              "      <td>98136</td>\n",
              "      <td>47.5208</td>\n",
              "      <td>-122.393</td>\n",
              "      <td>1360</td>\n",
              "      <td>5000</td>\n",
              "      <td>yes</td>\n",
              "      <td>6</td>\n",
              "    </tr>\n",
              "    <tr>\n",
              "      <th>4</th>\n",
              "      <td>1954400510</td>\n",
              "      <td>20150218T000000</td>\n",
              "      <td>510000.0</td>\n",
              "      <td>3.0</td>\n",
              "      <td>2.0</td>\n",
              "      <td>1680.0</td>\n",
              "      <td>8080.0</td>\n",
              "      <td>1</td>\n",
              "      <td>0</td>\n",
              "      <td>0.0</td>\n",
              "      <td>3</td>\n",
              "      <td>8</td>\n",
              "      <td>1680</td>\n",
              "      <td>0</td>\n",
              "      <td>1987</td>\n",
              "      <td>98074</td>\n",
              "      <td>47.6168</td>\n",
              "      <td>-122.045</td>\n",
              "      <td>1800</td>\n",
              "      <td>7503</td>\n",
              "      <td>yes</td>\n",
              "      <td>6</td>\n",
              "    </tr>\n",
              "    <tr>\n",
              "      <th>...</th>\n",
              "      <td>...</td>\n",
              "      <td>...</td>\n",
              "      <td>...</td>\n",
              "      <td>...</td>\n",
              "      <td>...</td>\n",
              "      <td>...</td>\n",
              "      <td>...</td>\n",
              "      <td>...</td>\n",
              "      <td>...</td>\n",
              "      <td>...</td>\n",
              "      <td>...</td>\n",
              "      <td>...</td>\n",
              "      <td>...</td>\n",
              "      <td>...</td>\n",
              "      <td>...</td>\n",
              "      <td>...</td>\n",
              "      <td>...</td>\n",
              "      <td>...</td>\n",
              "      <td>...</td>\n",
              "      <td>...</td>\n",
              "      <td>...</td>\n",
              "      <td>...</td>\n",
              "    </tr>\n",
              "    <tr>\n",
              "      <th>21608</th>\n",
              "      <td>263000018</td>\n",
              "      <td>20140521T000000</td>\n",
              "      <td>360000.0</td>\n",
              "      <td>3.0</td>\n",
              "      <td>3.0</td>\n",
              "      <td>1530.0</td>\n",
              "      <td>1131.0</td>\n",
              "      <td>3</td>\n",
              "      <td>0</td>\n",
              "      <td>0.0</td>\n",
              "      <td>3</td>\n",
              "      <td>8</td>\n",
              "      <td>1530</td>\n",
              "      <td>0</td>\n",
              "      <td>2009</td>\n",
              "      <td>98103</td>\n",
              "      <td>47.6993</td>\n",
              "      <td>-122.346</td>\n",
              "      <td>1530</td>\n",
              "      <td>1509</td>\n",
              "      <td>no</td>\n",
              "      <td>5</td>\n",
              "    </tr>\n",
              "    <tr>\n",
              "      <th>21609</th>\n",
              "      <td>6600060120</td>\n",
              "      <td>20150223T000000</td>\n",
              "      <td>400000.0</td>\n",
              "      <td>4.0</td>\n",
              "      <td>3.0</td>\n",
              "      <td>2310.0</td>\n",
              "      <td>5813.0</td>\n",
              "      <td>2</td>\n",
              "      <td>0</td>\n",
              "      <td>0.0</td>\n",
              "      <td>3</td>\n",
              "      <td>8</td>\n",
              "      <td>2310</td>\n",
              "      <td>0</td>\n",
              "      <td>2014</td>\n",
              "      <td>98146</td>\n",
              "      <td>47.5107</td>\n",
              "      <td>-122.362</td>\n",
              "      <td>1830</td>\n",
              "      <td>7200</td>\n",
              "      <td>no</td>\n",
              "      <td>5</td>\n",
              "    </tr>\n",
              "    <tr>\n",
              "      <th>21610</th>\n",
              "      <td>1523300141</td>\n",
              "      <td>20140623T000000</td>\n",
              "      <td>402101.0</td>\n",
              "      <td>2.0</td>\n",
              "      <td>1.0</td>\n",
              "      <td>1020.0</td>\n",
              "      <td>1350.0</td>\n",
              "      <td>2</td>\n",
              "      <td>0</td>\n",
              "      <td>0.0</td>\n",
              "      <td>3</td>\n",
              "      <td>7</td>\n",
              "      <td>1020</td>\n",
              "      <td>0</td>\n",
              "      <td>2009</td>\n",
              "      <td>98144</td>\n",
              "      <td>47.5944</td>\n",
              "      <td>-122.299</td>\n",
              "      <td>1020</td>\n",
              "      <td>2007</td>\n",
              "      <td>no</td>\n",
              "      <td>5</td>\n",
              "    </tr>\n",
              "    <tr>\n",
              "      <th>21611</th>\n",
              "      <td>291310100</td>\n",
              "      <td>20150116T000000</td>\n",
              "      <td>400000.0</td>\n",
              "      <td>3.0</td>\n",
              "      <td>3.0</td>\n",
              "      <td>1600.0</td>\n",
              "      <td>2388.0</td>\n",
              "      <td>2</td>\n",
              "      <td>0</td>\n",
              "      <td>0.0</td>\n",
              "      <td>3</td>\n",
              "      <td>8</td>\n",
              "      <td>1600</td>\n",
              "      <td>0</td>\n",
              "      <td>2004</td>\n",
              "      <td>98027</td>\n",
              "      <td>47.5345</td>\n",
              "      <td>-122.069</td>\n",
              "      <td>1410</td>\n",
              "      <td>1287</td>\n",
              "      <td>no</td>\n",
              "      <td>5</td>\n",
              "    </tr>\n",
              "    <tr>\n",
              "      <th>21612</th>\n",
              "      <td>1523300157</td>\n",
              "      <td>20141015T000000</td>\n",
              "      <td>325000.0</td>\n",
              "      <td>2.0</td>\n",
              "      <td>1.0</td>\n",
              "      <td>1020.0</td>\n",
              "      <td>1076.0</td>\n",
              "      <td>2</td>\n",
              "      <td>0</td>\n",
              "      <td>0.0</td>\n",
              "      <td>3</td>\n",
              "      <td>7</td>\n",
              "      <td>1020</td>\n",
              "      <td>0</td>\n",
              "      <td>2008</td>\n",
              "      <td>98144</td>\n",
              "      <td>47.5941</td>\n",
              "      <td>-122.299</td>\n",
              "      <td>1020</td>\n",
              "      <td>1357</td>\n",
              "      <td>no</td>\n",
              "      <td>5</td>\n",
              "    </tr>\n",
              "  </tbody>\n",
              "</table>\n",
              "<p>21609 rows × 22 columns</p>\n",
              "</div>"
            ],
            "text/plain": [
              "               id             date     price  ...  sqft_lot15  Old  New\n",
              "0      7129300520  20141013T000000  221900.0  ...        5650  yes    6\n",
              "1      6414100192  20141209T000000  538000.0  ...        7639  yes    6\n",
              "2      5631500400  20150225T000000  180000.0  ...        8062  yes    6\n",
              "3      2487200875  20141209T000000  604000.0  ...        5000  yes    6\n",
              "4      1954400510  20150218T000000  510000.0  ...        7503  yes    6\n",
              "...           ...              ...       ...  ...         ...  ...  ...\n",
              "21608   263000018  20140521T000000  360000.0  ...        1509   no    5\n",
              "21609  6600060120  20150223T000000  400000.0  ...        7200   no    5\n",
              "21610  1523300141  20140623T000000  402101.0  ...        2007   no    5\n",
              "21611   291310100  20150116T000000  400000.0  ...        1287   no    5\n",
              "21612  1523300157  20141015T000000  325000.0  ...        1357   no    5\n",
              "\n",
              "[21609 rows x 22 columns]"
            ]
          },
          "metadata": {
            "tags": []
          },
          "execution_count": 28
        }
      ]
    },
    {
      "cell_type": "markdown",
      "metadata": {
        "id": "022satJPI3PA"
      },
      "source": [
        "<h3>Data Standardization</h3>\n",
        "<p>\n",
        "Data is usually collected from different agencies with different formats.\n",
        "(Data Standardization is also a term for a particular type of data normalization)\n",
        "</p>\n",
        "    \n",
        "<b>What is Standardization?</b>\n",
        "<p>Standardization is the process of transforming data into a common format which allows the researcher to make the meaningful comparison.\n",
        "</p>"
      ]
    },
    {
      "cell_type": "code",
      "metadata": {
        "id": "HgiJpUDpI_MM",
        "outputId": "1e0696b3-c21c-4e02-9fde-338b75abb8db",
        "colab": {
          "base_uri": "https://localhost:8080/",
          "height": 35
        }
      },
      "source": [
        "df['Old'].unique()"
      ],
      "execution_count": 29,
      "outputs": [
        {
          "output_type": "execute_result",
          "data": {
            "text/plain": [
              "array(['yes', 'no', 'TRUE', 'FALSE', 'NO', 'YES'], dtype=object)"
            ]
          },
          "metadata": {
            "tags": []
          },
          "execution_count": 29
        }
      ]
    },
    {
      "cell_type": "code",
      "metadata": {
        "id": "xUE598NzJGNZ",
        "outputId": "3477d996-e797-4902-e21d-8094648f60f0",
        "colab": {
          "base_uri": "https://localhost:8080/",
          "height": 104
        }
      },
      "source": [
        "df.replace(\"TRUE\", 'yes', inplace = True)\n",
        "df.replace(\"FALSE\", 'no', inplace = True)\n",
        "df.replace(\"YES\", 'yes', inplace = True)\n",
        "df.replace(\"NO\", 'no', inplace = True)"
      ],
      "execution_count": 30,
      "outputs": [
        {
          "output_type": "stream",
          "text": [
            "/usr/local/lib/python3.6/dist-packages/pandas/core/frame.py:4172: SettingWithCopyWarning: \n",
            "A value is trying to be set on a copy of a slice from a DataFrame\n",
            "\n",
            "See the caveats in the documentation: https://pandas.pydata.org/pandas-docs/stable/user_guide/indexing.html#returning-a-view-versus-a-copy\n",
            "  method=method,\n"
          ],
          "name": "stderr"
        }
      ]
    },
    {
      "cell_type": "code",
      "metadata": {
        "id": "fPpmvMvdJRIN",
        "outputId": "e4170440-fa0c-4238-a754-deeec597c3ab",
        "colab": {
          "base_uri": "https://localhost:8080/",
          "height": 35
        }
      },
      "source": [
        "df['Old'].unique()"
      ],
      "execution_count": 31,
      "outputs": [
        {
          "output_type": "execute_result",
          "data": {
            "text/plain": [
              "array(['yes', 'no'], dtype=object)"
            ]
          },
          "metadata": {
            "tags": []
          },
          "execution_count": 31
        }
      ]
    },
    {
      "cell_type": "markdown",
      "metadata": {
        "id": "rJ2UkfMlJbFa"
      },
      "source": [
        "<h3>Data Normalization </h3>\n",
        "\n",
        "<b>Why normalization?</b>\n",
        "<p>Normalization is the process of transforming values of several variables into a similar range. Typical normalizations include scaling the variable so the variable average is 0, scaling the variable so the variance is 1, or scaling variable so the variable values range from 0 to 1\n",
        "</p>"
      ]
    },
    {
      "cell_type": "code",
      "metadata": {
        "id": "p7b3py5N_fV5",
        "outputId": "d3fd9354-8fa2-4fa5-977b-c76b9a28f020",
        "colab": {
          "base_uri": "https://localhost:8080/",
          "height": 615
        }
      },
      "source": [
        "# https://scikit-learn.org/stable/modules/classes.html#module-sklearn.preprocessing\n",
        "from sklearn.preprocessing import MinMaxScaler\n",
        "min_max_scaler = MinMaxScaler()\n",
        "df[['sqft_living','sqft_lot']] = min_max_scaler.fit_transform(df[['sqft_living','sqft_lot']])\n",
        "df[['sqft_living','sqft_lot']]"
      ],
      "execution_count": 32,
      "outputs": [
        {
          "output_type": "stream",
          "text": [
            "/usr/local/lib/python3.6/dist-packages/ipykernel_launcher.py:4: SettingWithCopyWarning: \n",
            "A value is trying to be set on a copy of a slice from a DataFrame.\n",
            "Try using .loc[row_indexer,col_indexer] = value instead\n",
            "\n",
            "See the caveats in the documentation: https://pandas.pydata.org/pandas-docs/stable/user_guide/indexing.html#returning-a-view-versus-a-copy\n",
            "  after removing the cwd from sys.path.\n",
            "/usr/local/lib/python3.6/dist-packages/pandas/core/indexing.py:966: SettingWithCopyWarning: \n",
            "A value is trying to be set on a copy of a slice from a DataFrame.\n",
            "Try using .loc[row_indexer,col_indexer] = value instead\n",
            "\n",
            "See the caveats in the documentation: https://pandas.pydata.org/pandas-docs/stable/user_guide/indexing.html#returning-a-view-versus-a-copy\n",
            "  self.obj[item] = s\n"
          ],
          "name": "stderr"
        },
        {
          "output_type": "execute_result",
          "data": {
            "text/html": [
              "<div>\n",
              "<style scoped>\n",
              "    .dataframe tbody tr th:only-of-type {\n",
              "        vertical-align: middle;\n",
              "    }\n",
              "\n",
              "    .dataframe tbody tr th {\n",
              "        vertical-align: top;\n",
              "    }\n",
              "\n",
              "    .dataframe thead th {\n",
              "        text-align: right;\n",
              "    }\n",
              "</style>\n",
              "<table border=\"1\" class=\"dataframe\">\n",
              "  <thead>\n",
              "    <tr style=\"text-align: right;\">\n",
              "      <th></th>\n",
              "      <th>sqft_living</th>\n",
              "      <th>sqft_lot</th>\n",
              "    </tr>\n",
              "  </thead>\n",
              "  <tbody>\n",
              "    <tr>\n",
              "      <th>0</th>\n",
              "      <td>0.067170</td>\n",
              "      <td>0.003108</td>\n",
              "    </tr>\n",
              "    <tr>\n",
              "      <th>1</th>\n",
              "      <td>0.172075</td>\n",
              "      <td>0.004072</td>\n",
              "    </tr>\n",
              "    <tr>\n",
              "      <th>2</th>\n",
              "      <td>0.036226</td>\n",
              "      <td>0.005743</td>\n",
              "    </tr>\n",
              "    <tr>\n",
              "      <th>3</th>\n",
              "      <td>0.126038</td>\n",
              "      <td>0.002714</td>\n",
              "    </tr>\n",
              "    <tr>\n",
              "      <th>4</th>\n",
              "      <td>0.104906</td>\n",
              "      <td>0.004579</td>\n",
              "    </tr>\n",
              "    <tr>\n",
              "      <th>...</th>\n",
              "      <td>...</td>\n",
              "      <td>...</td>\n",
              "    </tr>\n",
              "    <tr>\n",
              "      <th>21608</th>\n",
              "      <td>0.093585</td>\n",
              "      <td>0.000370</td>\n",
              "    </tr>\n",
              "    <tr>\n",
              "      <th>21609</th>\n",
              "      <td>0.152453</td>\n",
              "      <td>0.003206</td>\n",
              "    </tr>\n",
              "    <tr>\n",
              "      <th>21610</th>\n",
              "      <td>0.055094</td>\n",
              "      <td>0.000503</td>\n",
              "    </tr>\n",
              "    <tr>\n",
              "      <th>21611</th>\n",
              "      <td>0.098868</td>\n",
              "      <td>0.001132</td>\n",
              "    </tr>\n",
              "    <tr>\n",
              "      <th>21612</th>\n",
              "      <td>0.055094</td>\n",
              "      <td>0.000337</td>\n",
              "    </tr>\n",
              "  </tbody>\n",
              "</table>\n",
              "<p>21609 rows × 2 columns</p>\n",
              "</div>"
            ],
            "text/plain": [
              "       sqft_living  sqft_lot\n",
              "0         0.067170  0.003108\n",
              "1         0.172075  0.004072\n",
              "2         0.036226  0.005743\n",
              "3         0.126038  0.002714\n",
              "4         0.104906  0.004579\n",
              "...            ...       ...\n",
              "21608     0.093585  0.000370\n",
              "21609     0.152453  0.003206\n",
              "21610     0.055094  0.000503\n",
              "21611     0.098868  0.001132\n",
              "21612     0.055094  0.000337\n",
              "\n",
              "[21609 rows x 2 columns]"
            ]
          },
          "metadata": {
            "tags": []
          },
          "execution_count": 32
        }
      ]
    },
    {
      "cell_type": "markdown",
      "metadata": {
        "id": "z3OfjF2oZlAs"
      },
      "source": [
        "\n",
        "\n",
        "---\n",
        "\n",
        "---\n",
        "\n",
        "\n",
        "\n"
      ]
    },
    {
      "cell_type": "markdown",
      "metadata": {
        "id": "aRjODWpdcKhJ"
      },
      "source": [
        "##Exploratory Data Analysis (EDA) and Data Visualization"
      ]
    },
    {
      "cell_type": "markdown",
      "metadata": {
        "id": "Nm5SyWOOQlM2"
      },
      "source": [
        "\n",
        "Categorical variables are variables that describe a 'characteristic' of a data unit, and are selected from a small group of categories. The categorical variables can have the type \"object\" or \"int64\". A good way to visualize categorical variables is by using boxplots.\n"
      ]
    },
    {
      "cell_type": "markdown",
      "metadata": {
        "id": "H0Pgf5MsczI8"
      },
      "source": [
        "<h3>Identify Outliers <h3>"
      ]
    },
    {
      "cell_type": "code",
      "metadata": {
        "id": "1hXaP0l85JIb",
        "outputId": "23927b4b-3981-4eb3-9a14-6ddca053620e",
        "colab": {
          "base_uri": "https://localhost:8080/",
          "height": 850
        }
      },
      "source": [
        "plt.figure(figsize=(10,15))\n",
        "sns.boxplot(df['bedrooms'].values, orient='v',)\n",
        "plt.show()"
      ],
      "execution_count": 33,
      "outputs": [
        {
          "output_type": "display_data",
          "data": {
            "image/png": "[encoded data removed]",
            "text/plain": [
              "<Figure size 720x1080 with 1 Axes>"
            ]
          },
          "metadata": {
            "tags": [],
            "needs_background": "light"
          }
        }
      ]
    },
    {
      "cell_type": "markdown",
      "metadata": {
        "id": "mIUI-dM0yRUQ"
      },
      "source": [
        "<h3>Remove Outliers</h3>"
      ]
    },
    {
      "cell_type": "code",
      "metadata": {
        "id": "EQEhgnAVRmxh",
        "outputId": "249b4196-2c65-4b1c-966b-7126f5da4a6c",
        "colab": {
          "base_uri": "https://localhost:8080/",
          "height": 121
        }
      },
      "source": [
        "# Remove outliers\n",
        "df['bedrooms'] = df['bedrooms'].clip(2, 5)"
      ],
      "execution_count": 34,
      "outputs": [
        {
          "output_type": "stream",
          "text": [
            "/usr/local/lib/python3.6/dist-packages/ipykernel_launcher.py:2: SettingWithCopyWarning: \n",
            "A value is trying to be set on a copy of a slice from a DataFrame.\n",
            "Try using .loc[row_indexer,col_indexer] = value instead\n",
            "\n",
            "See the caveats in the documentation: https://pandas.pydata.org/pandas-docs/stable/user_guide/indexing.html#returning-a-view-versus-a-copy\n",
            "  \n"
          ],
          "name": "stderr"
        }
      ]
    },
    {
      "cell_type": "code",
      "metadata": {
        "id": "86fBra5y6kt6",
        "outputId": "71f5a6e8-3fd4-43a9-972b-044691ea272f",
        "colab": {
          "base_uri": "https://localhost:8080/",
          "height": 850
        }
      },
      "source": [
        "plt.figure(figsize=(10,15))\n",
        "sns.boxplot(df['bedrooms'].values, orient='v')\n",
        "plt.show()"
      ],
      "execution_count": 35,
      "outputs": [
        {
          "output_type": "display_data",
          "data": {
            "image/png": "[encoded data removed]",
            "text/plain": [
              "<Figure size 720x1080 with 1 Axes>"
            ]
          },
          "metadata": {
            "tags": [],
            "needs_background": "light"
          }
        }
      ]
    },
    {
      "cell_type": "markdown",
      "metadata": {
        "id": "f13t6qxORsnv"
      },
      "source": [
        "##Discover and Visualize the Data to Gain Insights"
      ]
    },
    {
      "cell_type": "markdown",
      "metadata": {
        "id": "ZygB92KnWnR2"
      },
      "source": [
        "<h4>Individual Variables </h4>\n"
      ]
    },
    {
      "cell_type": "code",
      "metadata": {
        "id": "YqYW894ENQaP",
        "outputId": "7fb16c1d-ea41-406f-f85c-5fe690e12c17",
        "colab": {
          "base_uri": "https://localhost:8080/",
          "height": 296
        }
      },
      "source": [
        "sns.countplot(x='bedrooms',data=df, palette='hls')"
      ],
      "execution_count": 36,
      "outputs": [
        {
          "output_type": "execute_result",
          "data": {
            "text/plain": [
              "<matplotlib.axes._subplots.AxesSubplot at 0x7f5247ff6390>"
            ]
          },
          "metadata": {
            "tags": []
          },
          "execution_count": 36
        },
        {
          "output_type": "display_data",
          "data": {
            "image/png": "[encoded data removed]",
            "text/plain": [
              "<Figure size 432x288 with 1 Axes>"
            ]
          },
          "metadata": {
            "tags": [],
            "needs_background": "light"
          }
        }
      ]
    },
    {
      "cell_type": "code",
      "metadata": {
        "id": "9BDc1DwUHa4K",
        "outputId": "22831fd7-6438-4fdb-ace8-6cef47bc79c9",
        "colab": {
          "base_uri": "https://localhost:8080/",
          "height": 607
        }
      },
      "source": [
        "# show all data (not string or opject)\n",
        "df.hist(bins=30,figsize=(30,15))\n",
        "plt.show()"
      ],
      "execution_count": 37,
      "outputs": [
        {
          "output_type": "display_data",
          "data": {
            "image/png": "[encoded data removed]",
            "text/plain": [
              "<Figure size 2160x1080 with 20 Axes>"
            ]
          },
          "metadata": {
            "tags": [],
            "needs_background": "light"
          }
        }
      ]
    },
    {
      "cell_type": "markdown",
      "metadata": {
        "id": "p-dlXtaTW4nq"
      },
      "source": [
        "<h4>Relationships Between Variables</h4>"
      ]
    },
    {
      "cell_type": "code",
      "metadata": {
        "id": "5owZmejV0Tu4",
        "outputId": "009eb326-cf01-43a0-95fb-045692c393ec",
        "colab": {
          "base_uri": "https://localhost:8080/",
          "height": 290
        }
      },
      "source": [
        "plt.figure(figsize=(10, 4))\n",
        "sns.stripplot(x=\"bedrooms\", y=\"price\", data=df);"
      ],
      "execution_count": 38,
      "outputs": [
        {
          "output_type": "display_data",
          "data": {
            "image/png": "[encoded data removed]",
            "text/plain": [
              "<Figure size 720x288 with 1 Axes>"
            ]
          },
          "metadata": {
            "tags": [],
            "needs_background": "light"
          }
        }
      ]
    },
    {
      "cell_type": "markdown",
      "metadata": {
        "id": "ynbtoHNfXCUM"
      },
      "source": [
        "<h4>Weak and Strong Relationships<h4>"
      ]
    },
    {
      "cell_type": "code",
      "metadata": {
        "id": "umIlp-YEVPwE",
        "outputId": "04625d8f-05a9-4697-bf95-209a94cf3292",
        "colab": {
          "base_uri": "https://localhost:8080/",
          "height": 595
        }
      },
      "source": [
        "plt.figure(figsize=(22,10))\n",
        "\n",
        "plt.subplot(231)#subplot to add a subplot to the current figure\n",
        "sns.regplot(x='bedrooms', y='price', data=df,  line_kws={'color': 'red'}) \n",
        "\n",
        "plt.subplot(232)\n",
        "sns.regplot(x='sqft_living', y='price', data=df , line_kws={'color': 'red'})\n",
        "                    \n",
        "plt.subplot(233)\n",
        "sns.regplot(x='bathrooms', y='price', data=df,  line_kws={'color': 'red'})\n",
        "\n",
        "plt.subplot(234)\n",
        "sns.regplot(x='yr_built', y='price', data=df , line_kws={'color': 'red'})\n",
        "          \n",
        "plt.subplot(235)\n",
        "sns.regplot(x='grade', y='price', data=df , line_kws={'color': 'red'})\n",
        "\n",
        "plt.subplot(236)\n",
        "sns.regplot(x='zipcode', y='price', data=df , line_kws={'color': 'red'})\n",
        "                   "
      ],
      "execution_count": 39,
      "outputs": [
        {
          "output_type": "execute_result",
          "data": {
            "text/plain": [
              "<matplotlib.axes._subplots.AxesSubplot at 0x7f52458b17b8>"
            ]
          },
          "metadata": {
            "tags": []
          },
          "execution_count": 39
        },
        {
          "output_type": "display_data",
          "data": {
            "image/png": "[encoded data removed]",
            "text/plain": [
              "<Figure size 1584x720 with 6 Axes>"
            ]
          },
          "metadata": {
            "tags": [],
            "needs_background": "light"
          }
        }
      ]
    },
    {
      "cell_type": "markdown",
      "metadata": {
        "id": "i-gXj_9GRzT5"
      },
      "source": [
        "##Looking for Correlations"
      ]
    },
    {
      "cell_type": "markdown",
      "metadata": {
        "id": "0c0ru9fxR6zL"
      },
      "source": [
        "<h3>Correlation and Causation</h3>\n",
        "\n",
        "<b> Correlation: </b> a measure of the extent of interdependence between variables.\n",
        "\n",
        "<b> Causation: </b>the relationship between cause and effect between two variables.\n",
        "\n",
        "It is important to know the difference between these two and that correlation does not imply causation. Determining correlation is much simpler the determining causation as causation may require independent experimentation."
      ]
    },
    {
      "cell_type": "code",
      "metadata": {
        "id": "vwF4f0Hj3JK0",
        "outputId": "185d215e-f073-4b01-effc-2ec77a38eca5",
        "colab": {
          "base_uri": "https://localhost:8080/",
          "height": 948
        }
      },
      "source": [
        "plt.figure(figsize=(15,15))\n",
        "sns.heatmap(df.corr())"
      ],
      "execution_count": 40,
      "outputs": [
        {
          "output_type": "execute_result",
          "data": {
            "text/plain": [
              "<matplotlib.axes._subplots.AxesSubplot at 0x7f52471b2208>"
            ]
          },
          "metadata": {
            "tags": []
          },
          "execution_count": 40
        },
        {
          "output_type": "display_data",
          "data": {
            "image/png": "[encoded data removed]",
            "text/plain": [
              "<Figure size 1080x1080 with 2 Axes>"
            ]
          },
          "metadata": {
            "tags": [],
            "needs_background": "light"
          }
        }
      ]
    },
    {
      "cell_type": "code",
      "metadata": {
        "id": "QD3yVwUqxtn-",
        "outputId": "b31d3f56-77a1-43d4-d3d9-d1c85f1921e2",
        "colab": {
          "base_uri": "https://localhost:8080/",
          "height": 308
        }
      },
      "source": [
        "df.describe()"
      ],
      "execution_count": 41,
      "outputs": [
        {
          "output_type": "execute_result",
          "data": {
            "text/html": [
              "<div>\n",
              "<style scoped>\n",
              "    .dataframe tbody tr th:only-of-type {\n",
              "        vertical-align: middle;\n",
              "    }\n",
              "\n",
              "    .dataframe tbody tr th {\n",
              "        vertical-align: top;\n",
              "    }\n",
              "\n",
              "    .dataframe thead th {\n",
              "        text-align: right;\n",
              "    }\n",
              "</style>\n",
              "<table border=\"1\" class=\"dataframe\">\n",
              "  <thead>\n",
              "    <tr style=\"text-align: right;\">\n",
              "      <th></th>\n",
              "      <th>id</th>\n",
              "      <th>price</th>\n",
              "      <th>bedrooms</th>\n",
              "      <th>bathrooms</th>\n",
              "      <th>sqft_living</th>\n",
              "      <th>sqft_lot</th>\n",
              "      <th>floors</th>\n",
              "      <th>view</th>\n",
              "      <th>condition</th>\n",
              "      <th>grade</th>\n",
              "      <th>sqft_above</th>\n",
              "      <th>sqft_basement</th>\n",
              "      <th>yr_built</th>\n",
              "      <th>zipcode</th>\n",
              "      <th>lat</th>\n",
              "      <th>long</th>\n",
              "      <th>sqft_living15</th>\n",
              "      <th>sqft_lot15</th>\n",
              "      <th>New</th>\n",
              "    </tr>\n",
              "  </thead>\n",
              "  <tbody>\n",
              "    <tr>\n",
              "      <th>count</th>\n",
              "      <td>2.160900e+04</td>\n",
              "      <td>2.160900e+04</td>\n",
              "      <td>21609.000000</td>\n",
              "      <td>21609.000000</td>\n",
              "      <td>21609.000000</td>\n",
              "      <td>21609.000000</td>\n",
              "      <td>21609.000000</td>\n",
              "      <td>21609.000000</td>\n",
              "      <td>21609.000000</td>\n",
              "      <td>21609.000000</td>\n",
              "      <td>21609.000000</td>\n",
              "      <td>21609.000000</td>\n",
              "      <td>21609.000000</td>\n",
              "      <td>21609.000000</td>\n",
              "      <td>21609.000000</td>\n",
              "      <td>21609.000000</td>\n",
              "      <td>21609.000000</td>\n",
              "      <td>21609.000000</td>\n",
              "      <td>21609.000000</td>\n",
              "    </tr>\n",
              "    <tr>\n",
              "      <th>mean</th>\n",
              "      <td>4.580425e+09</td>\n",
              "      <td>5.401881e+05</td>\n",
              "      <td>3.359896</td>\n",
              "      <td>2.312601</td>\n",
              "      <td>0.135080</td>\n",
              "      <td>0.008837</td>\n",
              "      <td>1.542413</td>\n",
              "      <td>0.234347</td>\n",
              "      <td>3.409413</td>\n",
              "      <td>7.656856</td>\n",
              "      <td>1788.344116</td>\n",
              "      <td>291.469527</td>\n",
              "      <td>1971.005831</td>\n",
              "      <td>98077.945532</td>\n",
              "      <td>47.560060</td>\n",
              "      <td>-122.213902</td>\n",
              "      <td>1986.513443</td>\n",
              "      <td>12767.957703</td>\n",
              "      <td>4.115507</td>\n",
              "    </tr>\n",
              "    <tr>\n",
              "      <th>std</th>\n",
              "      <td>2.876478e+09</td>\n",
              "      <td>3.673709e+05</td>\n",
              "      <td>0.827217</td>\n",
              "      <td>0.865260</td>\n",
              "      <td>0.069313</td>\n",
              "      <td>0.025093</td>\n",
              "      <td>0.567516</td>\n",
              "      <td>0.766382</td>\n",
              "      <td>0.650695</td>\n",
              "      <td>1.175395</td>\n",
              "      <td>828.040836</td>\n",
              "      <td>442.550785</td>\n",
              "      <td>29.375445</td>\n",
              "      <td>53.506150</td>\n",
              "      <td>0.138565</td>\n",
              "      <td>0.140821</td>\n",
              "      <td>685.359809</td>\n",
              "      <td>27306.212338</td>\n",
              "      <td>0.403480</td>\n",
              "    </tr>\n",
              "    <tr>\n",
              "      <th>min</th>\n",
              "      <td>1.000102e+06</td>\n",
              "      <td>7.500000e+04</td>\n",
              "      <td>2.000000</td>\n",
              "      <td>0.000000</td>\n",
              "      <td>0.000000</td>\n",
              "      <td>0.000000</td>\n",
              "      <td>1.000000</td>\n",
              "      <td>0.000000</td>\n",
              "      <td>1.000000</td>\n",
              "      <td>1.000000</td>\n",
              "      <td>290.000000</td>\n",
              "      <td>0.000000</td>\n",
              "      <td>1900.000000</td>\n",
              "      <td>98001.000000</td>\n",
              "      <td>47.155900</td>\n",
              "      <td>-122.519000</td>\n",
              "      <td>399.000000</td>\n",
              "      <td>651.000000</td>\n",
              "      <td>0.000000</td>\n",
              "    </tr>\n",
              "    <tr>\n",
              "      <th>25%</th>\n",
              "      <td>2.123049e+09</td>\n",
              "      <td>3.220000e+05</td>\n",
              "      <td>3.000000</td>\n",
              "      <td>2.000000</td>\n",
              "      <td>0.085811</td>\n",
              "      <td>0.002738</td>\n",
              "      <td>1.000000</td>\n",
              "      <td>0.000000</td>\n",
              "      <td>3.000000</td>\n",
              "      <td>7.000000</td>\n",
              "      <td>1190.000000</td>\n",
              "      <td>0.000000</td>\n",
              "      <td>1951.000000</td>\n",
              "      <td>98033.000000</td>\n",
              "      <td>47.471000</td>\n",
              "      <td>-122.328000</td>\n",
              "      <td>1490.000000</td>\n",
              "      <td>5100.000000</td>\n",
              "      <td>4.000000</td>\n",
              "    </tr>\n",
              "    <tr>\n",
              "      <th>50%</th>\n",
              "      <td>3.904931e+09</td>\n",
              "      <td>4.500000e+05</td>\n",
              "      <td>3.000000</td>\n",
              "      <td>2.000000</td>\n",
              "      <td>0.122264</td>\n",
              "      <td>0.004301</td>\n",
              "      <td>2.000000</td>\n",
              "      <td>0.000000</td>\n",
              "      <td>3.000000</td>\n",
              "      <td>7.000000</td>\n",
              "      <td>1560.000000</td>\n",
              "      <td>0.000000</td>\n",
              "      <td>1975.000000</td>\n",
              "      <td>98065.000000</td>\n",
              "      <td>47.571800</td>\n",
              "      <td>-122.230000</td>\n",
              "      <td>1840.000000</td>\n",
              "      <td>7620.000000</td>\n",
              "      <td>4.000000</td>\n",
              "    </tr>\n",
              "    <tr>\n",
              "      <th>75%</th>\n",
              "      <td>7.308900e+09</td>\n",
              "      <td>6.450000e+05</td>\n",
              "      <td>4.000000</td>\n",
              "      <td>3.000000</td>\n",
              "      <td>0.170566</td>\n",
              "      <td>0.006164</td>\n",
              "      <td>2.000000</td>\n",
              "      <td>0.000000</td>\n",
              "      <td>4.000000</td>\n",
              "      <td>8.000000</td>\n",
              "      <td>2210.000000</td>\n",
              "      <td>560.000000</td>\n",
              "      <td>1997.000000</td>\n",
              "      <td>98118.000000</td>\n",
              "      <td>47.678000</td>\n",
              "      <td>-122.125000</td>\n",
              "      <td>2360.000000</td>\n",
              "      <td>10083.000000</td>\n",
              "      <td>4.000000</td>\n",
              "    </tr>\n",
              "    <tr>\n",
              "      <th>max</th>\n",
              "      <td>9.900000e+09</td>\n",
              "      <td>7.700000e+06</td>\n",
              "      <td>5.000000</td>\n",
              "      <td>8.000000</td>\n",
              "      <td>1.000000</td>\n",
              "      <td>1.000000</td>\n",
              "      <td>4.000000</td>\n",
              "      <td>4.000000</td>\n",
              "      <td>5.000000</td>\n",
              "      <td>13.000000</td>\n",
              "      <td>9410.000000</td>\n",
              "      <td>4820.000000</td>\n",
              "      <td>2015.000000</td>\n",
              "      <td>98199.000000</td>\n",
              "      <td>47.777600</td>\n",
              "      <td>-121.315000</td>\n",
              "      <td>6210.000000</td>\n",
              "      <td>871200.000000</td>\n",
              "      <td>6.000000</td>\n",
              "    </tr>\n",
              "  </tbody>\n",
              "</table>\n",
              "</div>"
            ],
            "text/plain": [
              "                 id         price  ...     sqft_lot15           New\n",
              "count  2.160900e+04  2.160900e+04  ...   21609.000000  21609.000000\n",
              "mean   4.580425e+09  5.401881e+05  ...   12767.957703      4.115507\n",
              "std    2.876478e+09  3.673709e+05  ...   27306.212338      0.403480\n",
              "min    1.000102e+06  7.500000e+04  ...     651.000000      0.000000\n",
              "25%    2.123049e+09  3.220000e+05  ...    5100.000000      4.000000\n",
              "50%    3.904931e+09  4.500000e+05  ...    7620.000000      4.000000\n",
              "75%    7.308900e+09  6.450000e+05  ...   10083.000000      4.000000\n",
              "max    9.900000e+09  7.700000e+06  ...  871200.000000      6.000000\n",
              "\n",
              "[8 rows x 19 columns]"
            ]
          },
          "metadata": {
            "tags": []
          },
          "execution_count": 41
        }
      ]
    },
    {
      "cell_type": "code",
      "metadata": {
        "id": "kZtWK6MZXXfG",
        "outputId": "c5da086d-d8eb-4e04-9347-db1f4ccf8c52",
        "colab": {
          "base_uri": "https://localhost:8080/",
          "height": 69
        }
      },
      "source": [
        "print('max price : ', df['price'].max())\n",
        "print('min price : ', df['price'].min())\n",
        "print('mean price :',df['price'].mean())"
      ],
      "execution_count": 42,
      "outputs": [
        {
          "output_type": "stream",
          "text": [
            "max price :  7700000.0\n",
            "min price :  75000.0\n",
            "mean price : 540188.0696931834\n"
          ],
          "name": "stdout"
        }
      ]
    },
    {
      "cell_type": "markdown",
      "metadata": {
        "id": "9H-vKFP6QpsP"
      },
      "source": [
        "#Feature  Engineering"
      ]
    },
    {
      "cell_type": "markdown",
      "metadata": {
        "id": "XACPEuvfhwgC"
      },
      "source": [
        "* Construct new features\n",
        "* Combine two features or uncombine a feature\n",
        "*\tSelect features"
      ]
    },
    {
      "cell_type": "markdown",
      "metadata": {
        "id": "mehqLg9nUcUj"
      },
      "source": [
        "<h3>Conclusion: Important Variables</h3>\n",
        "We now have a better idea of what our data looks like and which variables are important to take into account when predicting the house price. "
      ]
    },
    {
      "cell_type": "markdown",
      "metadata": {
        "id": "cQc3LhulsiQp"
      },
      "source": [
        "##Select features"
      ]
    },
    {
      "cell_type": "code",
      "metadata": {
        "id": "opVvvSsQCSX6",
        "outputId": "bb629a1f-76a9-4830-f5c7-6c612fde2378",
        "colab": {
          "base_uri": "https://localhost:8080/",
          "height": 104
        }
      },
      "source": [
        "df.columns"
      ],
      "execution_count": 43,
      "outputs": [
        {
          "output_type": "execute_result",
          "data": {
            "text/plain": [
              "Index(['id', 'date', 'price', 'bedrooms', 'bathrooms', 'sqft_living',\n",
              "       'sqft_lot', 'floors', 'waterfront', 'view', 'condition', 'grade',\n",
              "       'sqft_above', 'sqft_basement', 'yr_built', 'zipcode', 'lat', 'long',\n",
              "       'sqft_living15', 'sqft_lot15', 'Old', 'New'],\n",
              "      dtype='object')"
            ]
          },
          "metadata": {
            "tags": []
          },
          "execution_count": 43
        }
      ]
    },
    {
      "cell_type": "code",
      "metadata": {
        "id": "maJsaXWT0N0r",
        "outputId": "1f6fd529-b02f-4b0a-aac2-3ddc65b3e1e9",
        "colab": {
          "base_uri": "https://localhost:8080/",
          "height": 407
        }
      },
      "source": [
        "selected_features = ['price', 'bedrooms', 'bathrooms','sqft_living', 'grade',]\n",
        "df_final = df[selected_features]\n",
        "df_final"
      ],
      "execution_count": 44,
      "outputs": [
        {
          "output_type": "execute_result",
          "data": {
            "text/html": [
              "<div>\n",
              "<style scoped>\n",
              "    .dataframe tbody tr th:only-of-type {\n",
              "        vertical-align: middle;\n",
              "    }\n",
              "\n",
              "    .dataframe tbody tr th {\n",
              "        vertical-align: top;\n",
              "    }\n",
              "\n",
              "    .dataframe thead th {\n",
              "        text-align: right;\n",
              "    }\n",
              "</style>\n",
              "<table border=\"1\" class=\"dataframe\">\n",
              "  <thead>\n",
              "    <tr style=\"text-align: right;\">\n",
              "      <th></th>\n",
              "      <th>price</th>\n",
              "      <th>bedrooms</th>\n",
              "      <th>bathrooms</th>\n",
              "      <th>sqft_living</th>\n",
              "      <th>grade</th>\n",
              "    </tr>\n",
              "  </thead>\n",
              "  <tbody>\n",
              "    <tr>\n",
              "      <th>0</th>\n",
              "      <td>221900.0</td>\n",
              "      <td>3.0</td>\n",
              "      <td>2.0</td>\n",
              "      <td>0.067170</td>\n",
              "      <td>7</td>\n",
              "    </tr>\n",
              "    <tr>\n",
              "      <th>1</th>\n",
              "      <td>538000.0</td>\n",
              "      <td>3.0</td>\n",
              "      <td>2.0</td>\n",
              "      <td>0.172075</td>\n",
              "      <td>7</td>\n",
              "    </tr>\n",
              "    <tr>\n",
              "      <th>2</th>\n",
              "      <td>180000.0</td>\n",
              "      <td>2.0</td>\n",
              "      <td>1.0</td>\n",
              "      <td>0.036226</td>\n",
              "      <td>6</td>\n",
              "    </tr>\n",
              "    <tr>\n",
              "      <th>3</th>\n",
              "      <td>604000.0</td>\n",
              "      <td>4.0</td>\n",
              "      <td>3.0</td>\n",
              "      <td>0.126038</td>\n",
              "      <td>7</td>\n",
              "    </tr>\n",
              "    <tr>\n",
              "      <th>4</th>\n",
              "      <td>510000.0</td>\n",
              "      <td>3.0</td>\n",
              "      <td>2.0</td>\n",
              "      <td>0.104906</td>\n",
              "      <td>8</td>\n",
              "    </tr>\n",
              "    <tr>\n",
              "      <th>...</th>\n",
              "      <td>...</td>\n",
              "      <td>...</td>\n",
              "      <td>...</td>\n",
              "      <td>...</td>\n",
              "      <td>...</td>\n",
              "    </tr>\n",
              "    <tr>\n",
              "      <th>21608</th>\n",
              "      <td>360000.0</td>\n",
              "      <td>3.0</td>\n",
              "      <td>3.0</td>\n",
              "      <td>0.093585</td>\n",
              "      <td>8</td>\n",
              "    </tr>\n",
              "    <tr>\n",
              "      <th>21609</th>\n",
              "      <td>400000.0</td>\n",
              "      <td>4.0</td>\n",
              "      <td>3.0</td>\n",
              "      <td>0.152453</td>\n",
              "      <td>8</td>\n",
              "    </tr>\n",
              "    <tr>\n",
              "      <th>21610</th>\n",
              "      <td>402101.0</td>\n",
              "      <td>2.0</td>\n",
              "      <td>1.0</td>\n",
              "      <td>0.055094</td>\n",
              "      <td>7</td>\n",
              "    </tr>\n",
              "    <tr>\n",
              "      <th>21611</th>\n",
              "      <td>400000.0</td>\n",
              "      <td>3.0</td>\n",
              "      <td>3.0</td>\n",
              "      <td>0.098868</td>\n",
              "      <td>8</td>\n",
              "    </tr>\n",
              "    <tr>\n",
              "      <th>21612</th>\n",
              "      <td>325000.0</td>\n",
              "      <td>2.0</td>\n",
              "      <td>1.0</td>\n",
              "      <td>0.055094</td>\n",
              "      <td>7</td>\n",
              "    </tr>\n",
              "  </tbody>\n",
              "</table>\n",
              "<p>21609 rows × 5 columns</p>\n",
              "</div>"
            ],
            "text/plain": [
              "          price  bedrooms  bathrooms  sqft_living  grade\n",
              "0      221900.0       3.0        2.0     0.067170      7\n",
              "1      538000.0       3.0        2.0     0.172075      7\n",
              "2      180000.0       2.0        1.0     0.036226      6\n",
              "3      604000.0       4.0        3.0     0.126038      7\n",
              "4      510000.0       3.0        2.0     0.104906      8\n",
              "...         ...       ...        ...          ...    ...\n",
              "21608  360000.0       3.0        3.0     0.093585      8\n",
              "21609  400000.0       4.0        3.0     0.152453      8\n",
              "21610  402101.0       2.0        1.0     0.055094      7\n",
              "21611  400000.0       3.0        3.0     0.098868      8\n",
              "21612  325000.0       2.0        1.0     0.055094      7\n",
              "\n",
              "[21609 rows x 5 columns]"
            ]
          },
          "metadata": {
            "tags": []
          },
          "execution_count": 44
        }
      ]
    },
    {
      "cell_type": "markdown",
      "metadata": {
        "id": "0X1eSPqIq8Cr"
      },
      "source": [
        "<h3>Save Cleaned Data and Download it <h3>"
      ]
    },
    {
      "cell_type": "code",
      "metadata": {
        "id": "SBpx1UOQrAfh"
      },
      "source": [
        "df_final.to_csv('cleaned_data.csv')"
      ],
      "execution_count": 45,
      "outputs": []
    },
    {
      "cell_type": "code",
      "metadata": {
        "id": "iekW46EErLvO"
      },
      "source": [
        "#from google.colab import files\n",
        "#files.download('cleaned_data.csv')"
      ],
      "execution_count": 46,
      "outputs": []
    },
    {
      "cell_type": "markdown",
      "metadata": {
        "id": "_xe97P22QwVM"
      },
      "source": [
        "#Choose and  fit model\n",
        "We will continue tomorrow ...\n",
        "\n"
      ]
    },
    {
      "cell_type": "markdown",
      "metadata": {
        "id": "YDR221XxBYuE"
      },
      "source": [
        "##Choose the algorithm that you think it is the right"
      ]
    },
    {
      "cell_type": "markdown",
      "metadata": {
        "id": "2q4EU4bvrhvT"
      },
      "source": [
        "## Linear Regression"
      ]
    },
    {
      "cell_type": "markdown",
      "metadata": {
        "id": "cwIJG40M0IjI"
      },
      "source": [
        "![LR.png](data:image/png;base64,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)"
      ]
    },
    {
      "cell_type": "markdown",
      "metadata": {
        "id": "Fujkz2zLsReD"
      },
      "source": [
        "\n",
        ">$y=mX+b$  \n",
        "\n",
        "Simple Linear Regression\n",
        "\n",
        ">$y=wX+b$  \n",
        "\n",
        ">$y=b_1X+b_0$ \n",
        "\n",
        "Multiple Linear Regression\n",
        "\n",
        ">$y=b_1X_1+b_2X_2+b_3X_3+...+b_nX_n+b_0$\n",
        "\n",
        "Recall\n",
        "\n",
        "$ {[ x_1,x_2,x_3,...,x_n ]} ----?----> y$\n",
        "\n",
        "We want to find the fit values for { $b_0,b_1,b_2,b_3,...,b_n$ }"
      ]
    },
    {
      "cell_type": "markdown",
      "metadata": {
        "id": "cjDNHnk7BiRL"
      },
      "source": [
        "1. **Input data**"
      ]
    },
    {
      "cell_type": "code",
      "metadata": {
        "id": "AN2JjP9OBend"
      },
      "source": [
        "\n",
        "columns = ['bedrooms', 'bathrooms','sqft_living', 'grade']\n",
        "labels = df_final['price'].values\n",
        "features = df_final[list(columns)].values\n"
      ],
      "execution_count": 47,
      "outputs": []
    },
    {
      "cell_type": "markdown",
      "metadata": {
        "id": "gbHZsHaeBlpW"
      },
      "source": [
        "2. **Spilt data**"
      ]
    },
    {
      "cell_type": "code",
      "metadata": {
        "id": "PBQov_IMBoiD"
      },
      "source": [
        "from sklearn.model_selection import train_test_split\n",
        "\n",
        "X_train, X_test, y_train, y_test = train_test_split(features, labels, test_size=0.30)"
      ],
      "execution_count": 48,
      "outputs": []
    },
    {
      "cell_type": "markdown",
      "metadata": {
        "id": "-gwpLZAXBrz9"
      },
      "source": [
        "   3. **Bulid a Model**"
      ]
    },
    {
      "cell_type": "code",
      "metadata": {
        "id": "g0I9FvpMByjv",
        "outputId": "44c452e7-72e7-4ef6-866a-bd8c07e79188",
        "colab": {
          "base_uri": "https://localhost:8080/",
          "height": 35
        }
      },
      "source": [
        "from sklearn import linear_model\n",
        "\n",
        "# Bulid a new Model\n",
        "regression = linear_model.LinearRegression()\n",
        "\n",
        "# Train the Model\n",
        "regression.fit(X_train, y_train)"
      ],
      "execution_count": 49,
      "outputs": [
        {
          "output_type": "execute_result",
          "data": {
            "text/plain": [
              "LinearRegression(copy_X=True, fit_intercept=True, n_jobs=None, normalize=False)"
            ]
          },
          "metadata": {
            "tags": []
          },
          "execution_count": 49
        }
      ]
    },
    {
      "cell_type": "markdown",
      "metadata": {
        "id": "pk_pO-e2XD13"
      },
      "source": [
        "   4. **Predict**"
      ]
    },
    {
      "cell_type": "code",
      "metadata": {
        "id": "oZsFFO4YW3g4"
      },
      "source": [
        "# Predict for training set\n",
        "y_train_predict = regression.predict(X_train)\n",
        "\n",
        "# Predict for training set\n",
        "y_test_predict = regression.predict(X_test)"
      ],
      "execution_count": 50,
      "outputs": []
    },
    {
      "cell_type": "markdown",
      "metadata": {
        "id": "SIPYtO35B1xf"
      },
      "source": [
        "#Evaluate model  performance"
      ]
    },
    {
      "cell_type": "code",
      "metadata": {
        "id": "ZvdNHRYaJLeK",
        "outputId": "67367d2c-823a-479e-a180-48cabf9faa1e",
        "colab": {
          "base_uri": "https://localhost:8080/",
          "height": 190
        }
      },
      "source": [
        "from sklearn.metrics import mean_squared_error , mean_absolute_error\n",
        "\n",
        "\n",
        "# model evaluation for training set\n",
        "mse_train = mean_squared_error(y_train, y_train_predict)\n",
        "mae_train = mean_absolute_error(y_train, y_train_predict)\n",
        "print(\"The model performance for training set\")\n",
        "print('RMSE is {}'.format(np.sqrt(mse_train)))\n",
        "print('MAE is {}'.format(mae_train))\n",
        "print(\"---------------------------------------\")\n",
        "\n",
        "# model evaluation for testing set\n",
        "mse_test = mean_squared_error(y_test, y_test_predict) # Return the loss it is non-negative . The best value is 0.0\n",
        "mae_test = mean_absolute_error(y_test, y_test_predict) # Return the loss it is non-negative . The best value is 0.0\n",
        "print(\"The model performance for testing set\")\n",
        "print('RMSE is {}'.format(np.sqrt(mse_test)))\n",
        "print('MAE is {}'.format(mae_test))\n",
        "\n",
        "print(\"---------------------------------------\")\n",
        "test_score= regression.score(X_test, y_test)# Return R2 score . The best possible score is 1.0 and it can be negative (because the model can be arbitrarily worse) \n",
        "print(\"The score of model for testing set\")\n",
        "print('Test score {}'.format(test_score.round(2)))\n"
      ],
      "execution_count": 51,
      "outputs": [
        {
          "output_type": "stream",
          "text": [
            "The model performance for training set\n",
            "RMSE is 245932.94689175906\n",
            "MAE is 160554.3704775719\n",
            "---------------------------------------\n",
            "The model performance for testing set\n",
            "RMSE is 248214.0500926823\n",
            "MAE is 160255.22788667033\n",
            "---------------------------------------\n",
            "The score of model for testing set\n",
            "Test score 0.55\n"
          ],
          "name": "stdout"
        }
      ]
    },
    {
      "cell_type": "code",
      "metadata": {
        "id": "B5BrNfcKLJec",
        "outputId": "0090021a-12ad-4c59-b26d-6b5c5426db2c",
        "colab": {
          "base_uri": "https://localhost:8080/",
          "height": 407
        }
      },
      "source": [
        "compare={\"Actual\": y_test, \"Predict\": y_test_predict}\n",
        "pd.DataFrame(compare)"
      ],
      "execution_count": 52,
      "outputs": [
        {
          "output_type": "execute_result",
          "data": {
            "text/html": [
              "<div>\n",
              "<style scoped>\n",
              "    .dataframe tbody tr th:only-of-type {\n",
              "        vertical-align: middle;\n",
              "    }\n",
              "\n",
              "    .dataframe tbody tr th {\n",
              "        vertical-align: top;\n",
              "    }\n",
              "\n",
              "    .dataframe thead th {\n",
              "        text-align: right;\n",
              "    }\n",
              "</style>\n",
              "<table border=\"1\" class=\"dataframe\">\n",
              "  <thead>\n",
              "    <tr style=\"text-align: right;\">\n",
              "      <th></th>\n",
              "      <th>Actual</th>\n",
              "      <th>Predict</th>\n",
              "    </tr>\n",
              "  </thead>\n",
              "  <tbody>\n",
              "    <tr>\n",
              "      <th>0</th>\n",
              "      <td>928990.0</td>\n",
              "      <td>965191.323546</td>\n",
              "    </tr>\n",
              "    <tr>\n",
              "      <th>1</th>\n",
              "      <td>210000.0</td>\n",
              "      <td>289877.987440</td>\n",
              "    </tr>\n",
              "    <tr>\n",
              "      <th>2</th>\n",
              "      <td>350000.0</td>\n",
              "      <td>447479.435060</td>\n",
              "    </tr>\n",
              "    <tr>\n",
              "      <th>3</th>\n",
              "      <td>586500.0</td>\n",
              "      <td>489655.859557</td>\n",
              "    </tr>\n",
              "    <tr>\n",
              "      <th>4</th>\n",
              "      <td>362000.0</td>\n",
              "      <td>402348.452767</td>\n",
              "    </tr>\n",
              "    <tr>\n",
              "      <th>...</th>\n",
              "      <td>...</td>\n",
              "      <td>...</td>\n",
              "    </tr>\n",
              "    <tr>\n",
              "      <th>6478</th>\n",
              "      <td>539000.0</td>\n",
              "      <td>437495.473182</td>\n",
              "    </tr>\n",
              "    <tr>\n",
              "      <th>6479</th>\n",
              "      <td>1390000.0</td>\n",
              "      <td>940028.265009</td>\n",
              "    </tr>\n",
              "    <tr>\n",
              "      <th>6480</th>\n",
              "      <td>416000.0</td>\n",
              "      <td>331133.266948</td>\n",
              "    </tr>\n",
              "    <tr>\n",
              "      <th>6481</th>\n",
              "      <td>619000.0</td>\n",
              "      <td>506402.646240</td>\n",
              "    </tr>\n",
              "    <tr>\n",
              "      <th>6482</th>\n",
              "      <td>554500.0</td>\n",
              "      <td>560294.744210</td>\n",
              "    </tr>\n",
              "  </tbody>\n",
              "</table>\n",
              "<p>6483 rows × 2 columns</p>\n",
              "</div>"
            ],
            "text/plain": [
              "         Actual        Predict\n",
              "0      928990.0  965191.323546\n",
              "1      210000.0  289877.987440\n",
              "2      350000.0  447479.435060\n",
              "3      586500.0  489655.859557\n",
              "4      362000.0  402348.452767\n",
              "...         ...            ...\n",
              "6478   539000.0  437495.473182\n",
              "6479  1390000.0  940028.265009\n",
              "6480   416000.0  331133.266948\n",
              "6481   619000.0  506402.646240\n",
              "6482   554500.0  560294.744210\n",
              "\n",
              "[6483 rows x 2 columns]"
            ]
          },
          "metadata": {
            "tags": []
          },
          "execution_count": 52
        }
      ]
    },
    {
      "cell_type": "code",
      "metadata": {
        "id": "geo4TkRsGyg1",
        "outputId": "f81de0e1-e5e0-4f0b-d3de-313a69581cc7",
        "colab": {
          "base_uri": "https://localhost:8080/",
          "height": 52
        }
      },
      "source": [
        "idx= np.random.choice(X_test.shape[0])\n",
        "print (\"Predicted price :\", y_test_predict[idx])\n",
        "print (\"Actual price :\", y_test[idx])"
      ],
      "execution_count": 53,
      "outputs": [
        {
          "output_type": "stream",
          "text": [
            "Predicted price : 277206.04704515205\n",
            "Actual price : 500000.0\n"
          ],
          "name": "stdout"
        }
      ]
    },
    {
      "cell_type": "code",
      "metadata": {
        "id": "9ngGwEzoB_II",
        "outputId": "a7056563-11ce-4e9f-dc24-b66d744f30c6",
        "colab": {
          "base_uri": "https://localhost:8080/",
          "height": 290
        }
      },
      "source": [
        "# visualization\n",
        "plt.scatter(y_test, y_test_predict,  color='black')\n",
        "plt.scatter(y_test[idx], y_test_predict[idx])\n",
        "plt.xlabel('(Actual price')\n",
        "plt.ylabel('Predicted pric)')\n",
        "plt.plot([df['price'].min(), df['price'].max()], [df['price'].min(), df['price'].max()], color='red')\n",
        "plt.show()"
      ],
      "execution_count": 54,
      "outputs": [
        {
          "output_type": "display_data",
          "data": {
            "image/png": "[encoded data removed]",
            "text/plain": [
              "<Figure size 432x288 with 1 Axes>"
            ]
          },
          "metadata": {
            "tags": [],
            "needs_background": "light"
          }
        }
      ]
    },
    {
      "cell_type": "code",
      "metadata": {
        "id": "J_gbNOMoCCHV",
        "outputId": "47d34d65-f6e0-49fd-a922-30be7d92a832",
        "colab": {
          "base_uri": "https://localhost:8080/",
          "height": 324
        }
      },
      "source": [
        "plt.figure(figsize=(22,5))\n",
        "plt.scatter(y_test, y_test_predict,  color='blue')\n",
        "plt.scatter(y_train, y_train_predict,  color='Orange')\n",
        "plt.plot([df['price'].min(), df['price'].max()], [df['price'].min(), df['price'].max()], color='red')\n",
        "plt.xlabel('Actual price')\n",
        "plt.ylabel('Predicted pric')\n",
        "plt.show() "
      ],
      "execution_count": 55,
      "outputs": [
        {
          "output_type": "display_data",
          "data": {
            "image/png": "[encoded data removed]",
            "text/plain": [
              "<Figure size 1584x360 with 1 Axes>"
            ]
          },
          "metadata": {
            "tags": [],
            "needs_background": "light"
          }
        }
      ]
    },
    {
      "cell_type": "markdown",
      "metadata": {
        "id": "f7n65jHXCIaA"
      },
      "source": [
        "## Save model and Use it"
      ]
    },
    {
      "cell_type": "code",
      "metadata": {
        "id": "bcepI-RsYwhK"
      },
      "source": [
        "# Save the model\n",
        "\n",
        "import pickle\n",
        "filename='model.pkl'\n",
        "\n",
        "pickle.dump(regression, open(filename, 'wb')) # w = write b ==binary mode"
      ],
      "execution_count": 56,
      "outputs": []
    },
    {
      "cell_type": "code",
      "metadata": {
        "id": "cRiByIKgY164"
      },
      "source": [
        "# Load the saved model\n",
        "model_load = pickle.load(open(filename, 'rb')) # r = read b ==binary mode"
      ],
      "execution_count": 57,
      "outputs": []
    },
    {
      "cell_type": "code",
      "metadata": {
        "id": "RIhIvM7Xuml-",
        "outputId": "ae6b8f50-fb26-4d6a-baec-205389236611",
        "colab": {
          "base_uri": "https://localhost:8080/",
          "height": 52
        }
      },
      "source": [
        "# coefficient b1,b2,b3,b4  {𝑏1𝑋1+𝑏2𝑋2+𝑏3𝑋3+𝑏4𝑋4+b0}\n",
        "model_load.coef_"
      ],
      "execution_count": 59,
      "outputs": [
        {
          "output_type": "execute_result",
          "data": {
            "text/plain": [
              "array([ -45596.70507425,  -47207.53770911, 3104653.46997816,\n",
              "        101711.05877882])"
            ]
          },
          "metadata": {
            "tags": []
          },
          "execution_count": 59
        }
      ]
    },
    {
      "cell_type": "code",
      "metadata": {
        "id": "EwIBwW74uvaq",
        "outputId": "7fae9bb8-23ca-4e2d-8047-80c51dbc04ff",
        "colab": {
          "base_uri": "https://localhost:8080/",
          "height": 35
        }
      },
      "source": [
        "# y-intercept b0  {𝑏1𝑋1+𝑏2𝑋2+𝑏3𝑋3+𝑏4𝑋4+b0}\n",
        "model_load.intercept_"
      ],
      "execution_count": 60,
      "outputs": [
        {
          "output_type": "execute_result",
          "data": {
            "text/plain": [
              "-394746.95177718124"
            ]
          },
          "metadata": {
            "tags": []
          },
          "execution_count": 60
        }
      ]
    },
    {
      "cell_type": "code",
      "metadata": {
        "id": "SYtir0rDY9Y4"
      },
      "source": [
        "# use the saved model for prediction\n",
        "import os\n",
        "\n",
        "# Recall the features are ['bedrooms', 'bathrooms','sqft_living', 'grade']\n",
        "\n",
        "exmaple_input= [  0, 0 , 0 ,0 ]\n",
        "exmaple_input[0] = input('Enter the number of bedrooms: ')\n",
        "exmaple_input[1] = input('Enter the number of bathrooms: ')\n",
        "exmaple_input[2] = input('Enter the total house square footage of the house(sqft_living): ')\n",
        "exmaple_input[3] = input('Enter the grade of the house: ')\n",
        "exmaple_input = [int(i) for i in exmaple_input] # to convert from string to integer\n",
        "\n",
        "exmaple_predict= model_load.predict(np.array( [exmaple_input,]))\n",
        "print(\"The predicted price is : {} $ \".format(exmaple_predict[0].round(2)))"
      ],
      "execution_count": null,
      "outputs": []
    },
    {
      "cell_type": "markdown",
      "metadata": {
        "id": "RC5XhKKSgea7"
      },
      "source": [
        "## Deploy the model"
      ]
    },
    {
      "cell_type": "markdown",
      "metadata": {
        "id": "4MD8VfCCo9pL"
      },
      "source": [
        "There are several ways to deploy your model . One of the easiest way the use of Flask"
      ]
    },
    {
      "cell_type": "code",
      "metadata": {
        "id": "zh6TVRXPoMkt"
      },
      "source": [
        "# downlodel your model\n",
        "\n",
        "from google.colab import files\n",
        "files.download('model.pkl')\n"
      ],
      "execution_count": null,
      "outputs": []
    },
    {
      "cell_type": "markdown",
      "metadata": {
        "id": "z8Aa_fZ-pPNp"
      },
      "source": [
        "Follow these guide"
      ]
    },
    {
      "cell_type": "markdown",
      "metadata": {
        "id": "59Q8G9_Nmo2C"
      },
      "source": [
        "Code : [click here](https://github.com/Ruqyai/Attaa_workshop/tree/master/hello_ML)   \n",
        "Steps : [click here](https://bit.ly/3cwEH41)  \n",
        "Demo : [click here](https://model-deployment-flask.herokuapp.com/)\n",
        "\n",
        "\n",
        "\n"
      ]
    }
  ]
}